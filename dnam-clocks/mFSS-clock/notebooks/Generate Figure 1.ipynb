{
 "cells": [
  {
   "cell_type": "code",
   "execution_count": 1,
   "id": "696fda5d",
   "metadata": {},
   "outputs": [],
   "source": [
    "import pandas as pd \n",
    "import numpy as np \n",
    "import seaborn as sns\n",
    "%run ../scripts/feature_selection_analyses.py"
   ]
  },
  {
   "cell_type": "code",
   "execution_count": 2,
   "id": "0f0ff33b",
   "metadata": {},
   "outputs": [],
   "source": [
    "#Load the metadata for the reference `V7 combined` composite dataset \n",
    "# (GSE42861, GSE125105, GSE72774, GSE106648) and separate it by healthy and disease cohort\n",
    "\n",
    "v7_meta = pd.read_excel('../data/processed/metadata/V7_pmeta.xlsx')\n",
    "h_meta = v7_meta.copy()\n",
    "d_meta = v7_meta.copy()\n",
    "h_meta = h_meta[h_meta.disease==0]\n",
    "d_meta = d_meta[d_meta.disease==1]\n",
    "h_meta.reset_index(drop=True, inplace=True)\n",
    "d_meta.reset_index(drop=True, inplace=True)"
   ]
  },
  {
   "cell_type": "markdown",
   "id": "3135ee20",
   "metadata": {},
   "source": [
    "# AdaptAge"
   ]
  },
  {
   "cell_type": "code",
   "execution_count": 4,
   "id": "4c44e57a",
   "metadata": {},
   "outputs": [
    {
     "data": {
      "text/html": [
       "<div>\n",
       "<style scoped>\n",
       "    .dataframe tbody tr th:only-of-type {\n",
       "        vertical-align: middle;\n",
       "    }\n",
       "\n",
       "    .dataframe tbody tr th {\n",
       "        vertical-align: top;\n",
       "    }\n",
       "\n",
       "    .dataframe thead th {\n",
       "        text-align: right;\n",
       "    }\n",
       "</style>\n",
       "<table border=\"1\" class=\"dataframe\">\n",
       "  <thead>\n",
       "    <tr style=\"text-align: right;\">\n",
       "      <th></th>\n",
       "      <th>CpG</th>\n",
       "      <th>Weight</th>\n",
       "    </tr>\n",
       "  </thead>\n",
       "  <tbody>\n",
       "    <tr>\n",
       "      <th>0</th>\n",
       "      <td>(Intercept)</td>\n",
       "      <td>-511.974276</td>\n",
       "    </tr>\n",
       "    <tr>\n",
       "      <th>1</th>\n",
       "      <td>cg00008671</td>\n",
       "      <td>-0.013709</td>\n",
       "    </tr>\n",
       "    <tr>\n",
       "      <th>2</th>\n",
       "      <td>cg00017970</td>\n",
       "      <td>-0.000108</td>\n",
       "    </tr>\n",
       "    <tr>\n",
       "      <th>3</th>\n",
       "      <td>cg00048759</td>\n",
       "      <td>33.802957</td>\n",
       "    </tr>\n",
       "    <tr>\n",
       "      <th>4</th>\n",
       "      <td>cg00050402</td>\n",
       "      <td>-0.049462</td>\n",
       "    </tr>\n",
       "    <tr>\n",
       "      <th>...</th>\n",
       "      <td>...</td>\n",
       "      <td>...</td>\n",
       "    </tr>\n",
       "    <tr>\n",
       "      <th>995</th>\n",
       "      <td>cg27615366</td>\n",
       "      <td>-0.000719</td>\n",
       "    </tr>\n",
       "    <tr>\n",
       "      <th>996</th>\n",
       "      <td>cg27631597</td>\n",
       "      <td>-0.003734</td>\n",
       "    </tr>\n",
       "    <tr>\n",
       "      <th>997</th>\n",
       "      <td>cg27660099</td>\n",
       "      <td>2.947057</td>\n",
       "    </tr>\n",
       "    <tr>\n",
       "      <th>998</th>\n",
       "      <td>cg27661460</td>\n",
       "      <td>-0.000069</td>\n",
       "    </tr>\n",
       "    <tr>\n",
       "      <th>999</th>\n",
       "      <td>ch.1.237398078F</td>\n",
       "      <td>-0.002672</td>\n",
       "    </tr>\n",
       "  </tbody>\n",
       "</table>\n",
       "<p>1000 rows × 2 columns</p>\n",
       "</div>"
      ],
      "text/plain": [
       "                 CpG      Weight\n",
       "0        (Intercept) -511.974276\n",
       "1         cg00008671   -0.013709\n",
       "2         cg00017970   -0.000108\n",
       "3         cg00048759   33.802957\n",
       "4         cg00050402   -0.049462\n",
       "..               ...         ...\n",
       "995       cg27615366   -0.000719\n",
       "996       cg27631597   -0.003734\n",
       "997       cg27660099    2.947057\n",
       "998       cg27661460   -0.000069\n",
       "999  ch.1.237398078F   -0.002672\n",
       "\n",
       "[1000 rows x 2 columns]"
      ]
     },
     "execution_count": 4,
     "metadata": {},
     "output_type": "execute_result"
    }
   ],
   "source": [
    "#Read in and prepare the AdaptAge model \n",
    "adapt = pd.read_csv('../data/processed/models/AdaptAge/AdaptAge.csv')\n",
    "adapt=prep_dataset(adapt)\n",
    "\n",
    "#Un-comment to view Dataframe\n",
    "# adapt"
   ]
  },
  {
   "cell_type": "code",
   "execution_count": 4,
   "id": "5b0b982a",
   "metadata": {},
   "outputs": [],
   "source": [
    "#Load the beta-values for the healthy and disease cohorts from the `V7 combined` composite dataset \n",
    "#(GSE42861, GSE125105, GSE72774, GSE106648) for just the AdaptAge CpG selection\n",
    "\n",
    "h_adapt = pd.read_pickle('../data/processed/models/AdaptAge/Healthy.pkl')\n",
    "d_adapt = pd.read_pickle('../data/processed/models/AdaptAge/Disease.pkl')"
   ]
  },
  {
   "cell_type": "code",
   "execution_count": 10,
   "id": "da889c66",
   "metadata": {},
   "outputs": [],
   "source": [
    "# Calculate the age correlations for each CpG in the Adaptage model using the healthy cohort from the composite dataset\n",
    "adapt_corrs, missing = model_corrs(adapt.loc[1:], h_adapt, h_meta)\n",
    "adapt_corrs['importance'] = normalized_importance(adapt_corrs)\n",
    "\n",
    "# Calculate the correlations between age and residuals of the age-correlation for each CpG\n",
    "adapt_corrs['het_rs'] = het_r(h_adapt, adapt, h_meta.age)\n",
    "\n",
    "#Un-comment to view\n",
    "#adapt_corrs"
   ]
  },
  {
   "cell_type": "code",
   "execution_count": null,
   "id": "ca79ca43",
   "metadata": {},
   "outputs": [],
   "source": []
  }
 ],
 "metadata": {
  "kernelspec": {
   "display_name": "Python 3 (ipykernel)",
   "language": "python",
   "name": "python3"
  },
  "language_info": {
   "codemirror_mode": {
    "name": "ipython",
    "version": 3
   },
   "file_extension": ".py",
   "mimetype": "text/x-python",
   "name": "python",
   "nbconvert_exporter": "python",
   "pygments_lexer": "ipython3",
   "version": "3.8.16"
  }
 },
 "nbformat": 4,
 "nbformat_minor": 5
}
