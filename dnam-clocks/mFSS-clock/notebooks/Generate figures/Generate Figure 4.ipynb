{
 "cells": [
  {
   "cell_type": "code",
   "execution_count": 1,
   "id": "db823528",
   "metadata": {},
   "outputs": [],
   "source": [
    "import pandas as pd \n",
    "import numpy as np \n",
    "import seaborn as sns\n",
    "import pickle as pkl\n",
    "\n",
    "%run ../../scripts/coherence_analysis_and_transform.py\n",
    "%run ../../scripts/utils/data_processing.py\n",
    "%matplotlib inline"
   ]
  },
  {
   "cell_type": "code",
   "execution_count": 2,
   "id": "eee298ac",
   "metadata": {},
   "outputs": [],
   "source": [
    "data_path = '../../data/processed/'"
   ]
  },
  {
   "cell_type": "code",
   "execution_count": 8,
   "id": "767c1e49",
   "metadata": {},
   "outputs": [],
   "source": [
    "# Read in the Hannum dataset for training\n",
    "hannum = pd.read_pickle(data_path + 'GSE40279_hannum/hannum32.pkl')\n",
    "hannum_meta = pd.read_excel(data_path + 'GSE40279_hannum/hannum_pmeta.xlsx')"
   ]
  },
  {
   "cell_type": "code",
   "execution_count": 3,
   "id": "370b10f2",
   "metadata": {},
   "outputs": [],
   "source": [
    "art = np.load(data_path + 'GSE42861_arthritis/arthritis32_full.npy', allow_pickle=True)\n",
    "art_meta = pd.read_excel(data_path + 'GSE42861_arthritis/arthritis_pmeta.xlsx')\n",
    "cgs=list_reader(data_path + 'GSE42861_arthritis/cgs_full.txt')\n",
    "art = pd.DataFrame(art, columns=cgs)"
   ]
  },
  {
   "cell_type": "code",
   "execution_count": 9,
   "id": "32d4f8ec",
   "metadata": {},
   "outputs": [],
   "source": [
    "# Read in the Lehne datasat for testing\n",
    "lehne = np.load(data_path + 'GSE55763_lehne/lehne32_reduced.npy')\n",
    "lehne_meta = pd.read_excel(data_path + 'GSE55763_lehne/lehne_pmeta.xlsx')\n",
    "lehne_cgs = list_reader(data_path + 'GSE55763_lehne/cgs')\n",
    "lehne = pd.DataFrame(lehne, columns=lehne_cgs)"
   ]
  },
  {
   "cell_type": "markdown",
   "id": "b12cb4ae",
   "metadata": {},
   "source": [
    "### Read in the filtered (less SNPs and CpGs missing from GSE55763) age correlations 'filtered_age_corrs.xlsx' stored in 'cpg_sets' directory"
   ]
  },
  {
   "cell_type": "code",
   "execution_count": 4,
   "id": "30569dce",
   "metadata": {},
   "outputs": [],
   "source": [
    "age_corrs=pd.read_excel(data_path + 'cpg_sets/filtered_age_corrs.xlsx')"
   ]
  },
  {
   "cell_type": "code",
   "execution_count": 6,
   "id": "59388908",
   "metadata": {},
   "outputs": [],
   "source": [
    "#Identify arthritis-shifted CpGs\n",
    "up_shift, down_shift = get_shifts(art, art_meta, age_corrs.CpG[:10000], 'Control')\n",
    "\n",
    "#Combine\n",
    "d_shift = pd.concat([up_shift,down_shift])\n",
    "d_shift.reset_index(inplace=True, drop=True)"
   ]
  },
  {
   "cell_type": "code",
   "execution_count": null,
   "id": "89660f2f",
   "metadata": {},
   "outputs": [],
   "source": []
  }
 ],
 "metadata": {
  "kernelspec": {
   "display_name": "Python 3 (ipykernel)",
   "language": "python",
   "name": "python3"
  },
  "language_info": {
   "codemirror_mode": {
    "name": "ipython",
    "version": 3
   },
   "file_extension": ".py",
   "mimetype": "text/x-python",
   "name": "python",
   "nbconvert_exporter": "python",
   "pygments_lexer": "ipython3",
   "version": "3.8.16"
  }
 },
 "nbformat": 4,
 "nbformat_minor": 5
}
