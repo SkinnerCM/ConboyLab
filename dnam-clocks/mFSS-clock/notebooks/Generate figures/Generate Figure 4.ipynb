{
 "cells": [
  {
   "cell_type": "code",
   "execution_count": 17,
   "id": "db823528",
   "metadata": {},
   "outputs": [],
   "source": [
    "import pandas as pd \n",
    "import numpy as np \n",
    "import seaborn as sns\n",
    "import pickle as pkl\n",
    "\n",
    "%run ../../scripts/mfss_model_train.py\n",
    "%run ../../scripts/coherence_analysis_and_transform.py\n",
    "%run ../../scripts/utils/data_processing.py\n",
    "%matplotlib inline"
   ]
  },
  {
   "cell_type": "markdown",
   "id": "1921ae72",
   "metadata": {},
   "source": [
    "# Load in training and test data"
   ]
  },
  {
   "cell_type": "code",
   "execution_count": 3,
   "id": "eee298ac",
   "metadata": {},
   "outputs": [],
   "source": [
    "data_path = '../../data/processed/'"
   ]
  },
  {
   "cell_type": "code",
   "execution_count": 8,
   "id": "767c1e49",
   "metadata": {},
   "outputs": [],
   "source": [
    "# Read in the Hannum dataset for training\n",
    "hannum = pd.read_pickle(data_path + 'GSE40279_hannum/hannum32.pkl')\n",
    "hannum_meta = pd.read_excel(data_path + 'GSE40279_hannum/hannum_pmeta.xlsx')"
   ]
  },
  {
   "cell_type": "code",
   "execution_count": 4,
   "id": "370b10f2",
   "metadata": {},
   "outputs": [],
   "source": [
    "art = np.load(data_path + 'GSE42861_arthritis/arthritis32_full.npy', allow_pickle=True)\n",
    "art_meta = pd.read_excel(data_path + 'GSE42861_arthritis/arthritis_pmeta.xlsx')\n",
    "cgs=list_reader(data_path + 'GSE42861_arthritis/cgs_full.txt')\n",
    "art = pd.DataFrame(art, columns=cgs)"
   ]
  },
  {
   "cell_type": "code",
   "execution_count": 9,
   "id": "32d4f8ec",
   "metadata": {},
   "outputs": [],
   "source": [
    "# Read in the Lehne datasat for testing\n",
    "lehne = np.load(data_path + 'GSE55763_lehne/lehne32_reduced.npy')\n",
    "lehne_meta = pd.read_excel(data_path + 'GSE55763_lehne/lehne_pmeta.xlsx')\n",
    "lehne_cgs = list_reader(data_path + 'GSE55763_lehne/cgs')\n",
    "lehne = pd.DataFrame(lehne, columns=lehne_cgs)"
   ]
  },
  {
   "cell_type": "markdown",
   "id": "b12cb4ae",
   "metadata": {},
   "source": [
    "### Read in the filtered (less SNPs and CpGs missing from GSE55763) age correlations 'filtered_age_corrs.xlsx' stored in 'cpg_sets' directory"
   ]
  },
  {
   "cell_type": "code",
   "execution_count": 5,
   "id": "30569dce",
   "metadata": {},
   "outputs": [],
   "source": [
    "age_corrs=pd.read_excel(data_path + 'cpg_sets/filtered_age_corrs.xlsx')"
   ]
  },
  {
   "cell_type": "code",
   "execution_count": 18,
   "id": "59388908",
   "metadata": {},
   "outputs": [],
   "source": [
    "#Identify arthritis-shifted CpGs\n",
    "up_shift, down_shift = get_shifts(art, art_meta, age_corrs.CpG[:10000], 'Control')\n",
    "\n",
    "#Combine\n",
    "d_shift = pd.concat([up_shift,down_shift])\n",
    "d_shift.reset_index(inplace=True, drop=True)"
   ]
  },
  {
   "cell_type": "code",
   "execution_count": 19,
   "id": "89660f2f",
   "metadata": {},
   "outputs": [],
   "source": [
    "#Get correlation magnitudes, sort correlation magnitude (descending)\n",
    "d_shift['Abs. correlation'] = abs(d_shift.Correlation)\n",
    "d_shift.sort_values(by='Abs. correlation', ignore_index=True, inplace=True,ascending=False)\n",
    "d_shift['Abs. d'] = abs(d_shift['Cohens d'])"
   ]
  },
  {
   "cell_type": "markdown",
   "id": "911fff1c",
   "metadata": {},
   "source": [
    "# Generate Supplementary Table 3"
   ]
  },
  {
   "cell_type": "code",
   "execution_count": 20,
   "id": "ea45798e",
   "metadata": {},
   "outputs": [
    {
     "data": {
      "text/html": [
       "<div>\n",
       "<style scoped>\n",
       "    .dataframe tbody tr th:only-of-type {\n",
       "        vertical-align: middle;\n",
       "    }\n",
       "\n",
       "    .dataframe tbody tr th {\n",
       "        vertical-align: top;\n",
       "    }\n",
       "\n",
       "    .dataframe thead th {\n",
       "        text-align: right;\n",
       "    }\n",
       "</style>\n",
       "<table border=\"1\" class=\"dataframe\">\n",
       "  <thead>\n",
       "    <tr style=\"text-align: right;\">\n",
       "      <th></th>\n",
       "      <th>CpG</th>\n",
       "      <th>Shift</th>\n",
       "      <th>Correlation</th>\n",
       "      <th>Cohens d</th>\n",
       "      <th>Sign</th>\n",
       "      <th>Order</th>\n",
       "      <th>Abs. correlation</th>\n",
       "      <th>Abs. d</th>\n",
       "    </tr>\n",
       "  </thead>\n",
       "  <tbody>\n",
       "    <tr>\n",
       "      <th>0</th>\n",
       "      <td>cg16867657</td>\n",
       "      <td>-0.009140</td>\n",
       "      <td>0.847155</td>\n",
       "      <td>0.663105</td>\n",
       "      <td>-1</td>\n",
       "      <td>0</td>\n",
       "      <td>0.847155</td>\n",
       "      <td>0.663105</td>\n",
       "    </tr>\n",
       "    <tr>\n",
       "      <th>1</th>\n",
       "      <td>cg21572722</td>\n",
       "      <td>-0.013792</td>\n",
       "      <td>0.745844</td>\n",
       "      <td>1.246969</td>\n",
       "      <td>-1</td>\n",
       "      <td>6</td>\n",
       "      <td>0.745844</td>\n",
       "      <td>1.246969</td>\n",
       "    </tr>\n",
       "    <tr>\n",
       "      <th>2</th>\n",
       "      <td>cg22454769</td>\n",
       "      <td>0.009697</td>\n",
       "      <td>0.730099</td>\n",
       "      <td>-0.629524</td>\n",
       "      <td>1</td>\n",
       "      <td>3</td>\n",
       "      <td>0.730099</td>\n",
       "      <td>0.629524</td>\n",
       "    </tr>\n",
       "    <tr>\n",
       "      <th>3</th>\n",
       "      <td>cg06639320</td>\n",
       "      <td>-0.007488</td>\n",
       "      <td>0.720896</td>\n",
       "      <td>0.569131</td>\n",
       "      <td>-1</td>\n",
       "      <td>1</td>\n",
       "      <td>0.720896</td>\n",
       "      <td>0.569131</td>\n",
       "    </tr>\n",
       "    <tr>\n",
       "      <th>4</th>\n",
       "      <td>cg08097417</td>\n",
       "      <td>-0.007874</td>\n",
       "      <td>0.708310</td>\n",
       "      <td>0.739369</td>\n",
       "      <td>-1</td>\n",
       "      <td>23</td>\n",
       "      <td>0.708310</td>\n",
       "      <td>0.739369</td>\n",
       "    </tr>\n",
       "    <tr>\n",
       "      <th>...</th>\n",
       "      <td>...</td>\n",
       "      <td>...</td>\n",
       "      <td>...</td>\n",
       "      <td>...</td>\n",
       "      <td>...</td>\n",
       "      <td>...</td>\n",
       "      <td>...</td>\n",
       "      <td>...</td>\n",
       "    </tr>\n",
       "    <tr>\n",
       "      <th>9995</th>\n",
       "      <td>cg16456337</td>\n",
       "      <td>0.011331</td>\n",
       "      <td>0.000061</td>\n",
       "      <td>-1.068008</td>\n",
       "      <td>1</td>\n",
       "      <td>8655</td>\n",
       "      <td>0.000061</td>\n",
       "      <td>1.068008</td>\n",
       "    </tr>\n",
       "    <tr>\n",
       "      <th>9996</th>\n",
       "      <td>cg20709868</td>\n",
       "      <td>0.016851</td>\n",
       "      <td>-0.000055</td>\n",
       "      <td>-1.393279</td>\n",
       "      <td>1</td>\n",
       "      <td>8897</td>\n",
       "      <td>0.000055</td>\n",
       "      <td>1.393279</td>\n",
       "    </tr>\n",
       "    <tr>\n",
       "      <th>9997</th>\n",
       "      <td>cg16241861</td>\n",
       "      <td>0.011039</td>\n",
       "      <td>0.000055</td>\n",
       "      <td>-0.737081</td>\n",
       "      <td>1</td>\n",
       "      <td>6492</td>\n",
       "      <td>0.000055</td>\n",
       "      <td>0.737081</td>\n",
       "    </tr>\n",
       "    <tr>\n",
       "      <th>9998</th>\n",
       "      <td>cg01585758</td>\n",
       "      <td>-0.002377</td>\n",
       "      <td>0.000037</td>\n",
       "      <td>0.499104</td>\n",
       "      <td>-1</td>\n",
       "      <td>4931</td>\n",
       "      <td>0.000037</td>\n",
       "      <td>0.499104</td>\n",
       "    </tr>\n",
       "    <tr>\n",
       "      <th>9999</th>\n",
       "      <td>cg27179111</td>\n",
       "      <td>0.026340</td>\n",
       "      <td>0.000031</td>\n",
       "      <td>-1.670860</td>\n",
       "      <td>1</td>\n",
       "      <td>4975</td>\n",
       "      <td>0.000031</td>\n",
       "      <td>1.670860</td>\n",
       "    </tr>\n",
       "  </tbody>\n",
       "</table>\n",
       "<p>10000 rows × 8 columns</p>\n",
       "</div>"
      ],
      "text/plain": [
       "             CpG     Shift  Correlation  Cohens d  Sign  Order  \\\n",
       "0     cg16867657 -0.009140     0.847155  0.663105    -1      0   \n",
       "1     cg21572722 -0.013792     0.745844  1.246969    -1      6   \n",
       "2     cg22454769  0.009697     0.730099 -0.629524     1      3   \n",
       "3     cg06639320 -0.007488     0.720896  0.569131    -1      1   \n",
       "4     cg08097417 -0.007874     0.708310  0.739369    -1     23   \n",
       "...          ...       ...          ...       ...   ...    ...   \n",
       "9995  cg16456337  0.011331     0.000061 -1.068008     1   8655   \n",
       "9996  cg20709868  0.016851    -0.000055 -1.393279     1   8897   \n",
       "9997  cg16241861  0.011039     0.000055 -0.737081     1   6492   \n",
       "9998  cg01585758 -0.002377     0.000037  0.499104    -1   4931   \n",
       "9999  cg27179111  0.026340     0.000031 -1.670860     1   4975   \n",
       "\n",
       "      Abs. correlation    Abs. d  \n",
       "0             0.847155  0.663105  \n",
       "1             0.745844  1.246969  \n",
       "2             0.730099  0.629524  \n",
       "3             0.720896  0.569131  \n",
       "4             0.708310  0.739369  \n",
       "...                ...       ...  \n",
       "9995          0.000061  1.068008  \n",
       "9996          0.000055  1.393279  \n",
       "9997          0.000055  0.737081  \n",
       "9998          0.000037  0.499104  \n",
       "9999          0.000031  1.670860  \n",
       "\n",
       "[10000 rows x 8 columns]"
      ]
     },
     "execution_count": 20,
     "metadata": {},
     "output_type": "execute_result"
    }
   ],
   "source": [
    "d_shift"
   ]
  },
  {
   "cell_type": "code",
   "execution_count": 10,
   "id": "63d9f6db",
   "metadata": {},
   "outputs": [],
   "source": [
    "\n",
    "# #Re-sort by disease shift magnitude\n",
    "# d_shift['Abs. shift'] = abs(d_shift.Shift)\n",
    "# d_shift.sort_values(by=\"Abs. shift\", inplace=True,ignore_index=True,ascending=False)"
   ]
  },
  {
   "cell_type": "code",
   "execution_count": null,
   "id": "772cd0a8",
   "metadata": {},
   "outputs": [],
   "source": []
  }
 ],
 "metadata": {
  "kernelspec": {
   "display_name": "Python 3 (ipykernel)",
   "language": "python",
   "name": "python3"
  },
  "language_info": {
   "codemirror_mode": {
    "name": "ipython",
    "version": 3
   },
   "file_extension": ".py",
   "mimetype": "text/x-python",
   "name": "python",
   "nbconvert_exporter": "python",
   "pygments_lexer": "ipython3",
   "version": "3.8.16"
  }
 },
 "nbformat": 4,
 "nbformat_minor": 5
}
