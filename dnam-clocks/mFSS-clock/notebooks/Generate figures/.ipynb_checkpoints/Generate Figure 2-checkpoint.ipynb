{
 "cells": [
  {
   "cell_type": "code",
   "execution_count": 1,
   "id": "c1109b46",
   "metadata": {},
   "outputs": [],
   "source": [
    "import pandas as pd \n",
    "import numpy as np \n",
    "import seaborn as sns\n",
    "import matplotlib.pyplot as plt\n",
    "# %run ../../scripts/.py"
   ]
  },
  {
   "cell_type": "code",
   "execution_count": 2,
   "id": "f6070d3f",
   "metadata": {},
   "outputs": [],
   "source": [
    "#Load the metadata for the reference `V7 combined` composite dataset \n",
    "# (GSE42861, GSE125105, GSE72774, GSE106648) and separate it by healthy and disease cohorts\n",
    "\n",
    "v7_meta = pd.read_excel('../../data/processed/metadata/V7_pmeta.xlsx')\n",
    "h_meta = v7_meta.copy()\n",
    "d_meta = v7_meta.copy()\n",
    "h_meta = h_meta[h_meta.disease==0]\n",
    "d_meta = d_meta[d_meta.disease==1]\n",
    "h_meta.reset_index(drop=True, inplace=True)\n",
    "d_meta.reset_index(drop=True, inplace=True)"
   ]
  },
  {
   "cell_type": "code",
   "execution_count": 3,
   "id": "e74312b4",
   "metadata": {},
   "outputs": [
    {
     "ename": "NameError",
     "evalue": "name 'prep_dataset' is not defined",
     "output_type": "error",
     "traceback": [
      "\u001b[1;31m---------------------------------------------------------------------------\u001b[0m",
      "\u001b[1;31mNameError\u001b[0m                                 Traceback (most recent call last)",
      "Cell \u001b[1;32mIn[3], line 3\u001b[0m\n\u001b[0;32m      1\u001b[0m \u001b[38;5;66;03m# Read in and prepare the AdaptAge model \u001b[39;00m\n\u001b[0;32m      2\u001b[0m adapt \u001b[38;5;241m=\u001b[39m pd\u001b[38;5;241m.\u001b[39mread_csv(\u001b[38;5;124m'\u001b[39m\u001b[38;5;124m../../data/processed/models/AdaptAge/AdaptAge.csv\u001b[39m\u001b[38;5;124m'\u001b[39m)\n\u001b[1;32m----> 3\u001b[0m adapt\u001b[38;5;241m=\u001b[39m\u001b[43mprep_dataset\u001b[49m(adapt)\n\u001b[0;32m      5\u001b[0m \u001b[38;5;66;03m#Un-comment to view Dataframe\u001b[39;00m\n\u001b[0;32m      6\u001b[0m \u001b[38;5;66;03m# adapt\u001b[39;00m\n",
      "\u001b[1;31mNameError\u001b[0m: name 'prep_dataset' is not defined"
     ]
    }
   ],
   "source": [
    "# Read in and prepare the AdaptAge model \n",
    "adapt = pd.read_csv('../../data/processed/models/AdaptAge/AdaptAge.csv')\n",
    "adapt=prep_dataset(adapt)\n",
    "\n",
    "#Un-comment to view Dataframe\n",
    "# adapt"
   ]
  },
  {
   "cell_type": "code",
   "execution_count": null,
   "id": "b742c07f",
   "metadata": {},
   "outputs": [],
   "source": []
  }
 ],
 "metadata": {
  "kernelspec": {
   "display_name": "Python 3 (ipykernel)",
   "language": "python",
   "name": "python3"
  },
  "language_info": {
   "codemirror_mode": {
    "name": "ipython",
    "version": 3
   },
   "file_extension": ".py",
   "mimetype": "text/x-python",
   "name": "python",
   "nbconvert_exporter": "python",
   "pygments_lexer": "ipython3",
   "version": "3.8.16"
  }
 },
 "nbformat": 4,
 "nbformat_minor": 5
}
