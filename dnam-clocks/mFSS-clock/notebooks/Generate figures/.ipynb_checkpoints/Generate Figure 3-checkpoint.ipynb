{
 "cells": [
  {
   "cell_type": "code",
   "execution_count": 2,
   "id": "bfa7e681",
   "metadata": {},
   "outputs": [],
   "source": [
    "import pandas as pd \n",
    "import numpy as np \n",
    "import seaborn as sns\n",
    "import matplotlib.pyplot as plt\n",
    "%run ../../scripts/mfss_model_train.py\n",
    "%run ../../scripts/utils/data_processing.py"
   ]
  },
  {
   "cell_type": "markdown",
   "id": "19244aca",
   "metadata": {},
   "source": [
    "## Load train and test data"
   ]
  },
  {
   "cell_type": "code",
   "execution_count": null,
   "id": "d28c13dd",
   "metadata": {},
   "outputs": [],
   "source": [
    "data_path = '../dnam-clocks/mFSS-clock/data/processed/'"
   ]
  },
  {
   "cell_type": "code",
   "execution_count": null,
   "id": "ba91f53d",
   "metadata": {},
   "outputs": [],
   "source": [
    "# Read in the Hannum dataset for training\n",
    "hannum = pd.read_pickle(data_path + 'GSE40279_hannum/hannum32.pkl')\n",
    "hannum_meta = pd.read_excel(data_path + 'GSE40279_hannum/hannum_pmeta.xlsx')"
   ]
  },
  {
   "cell_type": "code",
   "execution_count": null,
   "id": "291dddf2",
   "metadata": {},
   "outputs": [],
   "source": [
    "# Read in the Lehne datasat for testing\n",
    "lehne = np.load(data_path + 'GSE55763_lehne/lehne32_reduced.npy')\n",
    "lehne_meta = pd.read_excel(data_path + 'GSE55763_lehne/lehne_pmeta.xlsx')\n",
    "lehne_cgs = list_reader(data_path + 'GSE55763_lehne/cgs')\n",
    "lehne = pd.DataFrame(lehne, columns=lehne_cgs)"
   ]
  },
  {
   "cell_type": "markdown",
   "id": "cbf39069",
   "metadata": {},
   "source": [
    "### Get the individual chronological age correlation of every CpG using the GSE40279 dataset as a reference (Requires download of processed GSE40279 dataset  Hannum32.pkl)"
   ]
  },
  {
   "cell_type": "code",
   "execution_count": 4,
   "id": "9515b995",
   "metadata": {},
   "outputs": [],
   "source": [
    "##Uncomment to run this process\n",
    "# age_corrs = get_age_corrs(hannum, hannum_meta)\n",
    "# age_corrs = age_corrs.reset_index(drop=True)"
   ]
  },
  {
   "cell_type": "markdown",
   "id": "a42c9c4b",
   "metadata": {},
   "source": [
    "### Or read in the age correlations if you already have 'Hannum_age_corrs.xlsx' stored in 'cpg_sets' directory"
   ]
  },
  {
   "cell_type": "code",
   "execution_count": 5,
   "id": "b490c02b",
   "metadata": {},
   "outputs": [],
   "source": [
    "age_corrs=pd.read_excel(data_path + 'cpg_sets/Hannum_age_corrs.xlsx')"
   ]
  },
  {
   "cell_type": "markdown",
   "id": "450d5292",
   "metadata": {},
   "source": [
    "### Filter out SNPs using the 450K manifest"
   ]
  },
  {
   "cell_type": "code",
   "execution_count": null,
   "id": "20b9d24f",
   "metadata": {},
   "outputs": [],
   "source": [
    "manifest = pd.read_csv(data_path + 'metadata/450K_manifest.csv', low_memory=False)\n",
    "# Get all SNP-associated CpGs in 450K array \n",
    "snps = set(manifest[~manifest.Probe_SNPs.isna()].Name)\n",
    "no_snps = list(set(age_corrs.CpG)-snps)\n",
    "age_corrs = age_corrs[age_corrs['CpG'].isin(no_snps)]"
   ]
  },
  {
   "cell_type": "markdown",
   "id": "d4540634",
   "metadata": {},
   "source": [
    "### GSE55763 has some missing CpGs so need to remove those from the age_corrs rows"
   ]
  },
  {
   "cell_type": "code",
   "execution_count": 6,
   "id": "152cae18",
   "metadata": {},
   "outputs": [],
   "source": [
    "overlap = list(set(lehne.columns)&set(age_corrs.CpG))\n",
    "\n",
    "filtered_age_corrs= age_corrs[age_corrs['CpG'].isin(overlap)]\n",
    "filtered_age_corrs.reset_index(inplace=True)"
   ]
  },
  {
   "cell_type": "markdown",
   "id": "98d96f3d",
   "metadata": {},
   "source": [
    "## Train an mFSS OLS model on the top 10,000 CpGs by strength of chronological age correlation, using GSE40279 (Hannum) for training and validation and GSE55763 (Lehne) for testing. Set patience=150"
   ]
  },
  {
   "cell_type": "code",
   "execution_count": null,
   "id": "30c61f81",
   "metadata": {},
   "outputs": [],
   "source": [
    "model_cgs, best_iter, val_mse, val_r_val, test_mse, test_r_val = mfss_ols(filtered_age_corrs.CpG.tolist()[:10000], hannum, hannum_meta,\n",
    "                                                                             lehne, lehne_meta, 150,pos_weights=False)"
   ]
  },
  {
   "cell_type": "code",
   "execution_count": null,
   "id": "cd9b9972",
   "metadata": {},
   "outputs": [],
   "source": [
    "plt.figure(figsize=(10, 8)) \n",
    "x_lim = len(model_cgs)\n",
    "plt.plot(np.linspace(1,x_lim,x_lim,dtype=int),val_r_val, c='k',linewidth=2, label='Validation' )\n",
    "plt.plot(np.linspace(1,x_lim,x_lim,dtype=int),test_r_val, c='k',linewidth=2, linestyle='dashed', label='Test')\n",
    "plt.axvline(x=best_iter, color='red', linestyle='--',linewidth=3)\n",
    "\n",
    "plt.xlabel('n Predictors', fontsize=30)\n",
    "plt.ylabel('Correlation (r)',fontsize=30)\n",
    "plt.xticks(fontsize=24)\n",
    "plt.yticks(fontsize=22)\n",
    "plt.legend(loc='best', fontsize='xx-large')"
   ]
  },
  {
   "cell_type": "code",
   "execution_count": null,
   "id": "2b1f008f",
   "metadata": {},
   "outputs": [],
   "source": [
    "plt.figure(figsize=(10, 8)) \n",
    "x_lim = len(model_cgs)\n",
    "plt.plot(np.linspace(1,x_lim,x_lim,dtype=int),val_mse, c='k',linewidth=2, label='Validation' )\n",
    "plt.plot(np.linspace(1,x_lim,x_lim,dtype=int),test_mse, c='k',linewidth=2, linestyle='dashed', label='Test')\n",
    "plt.axvline(x=best_iter, color='red', linestyle='--',linewidth=3)\n",
    "\n",
    "plt.xlabel('n Predictors', fontsize=30);\n",
    "plt.ylabel('MSE',fontsize=30);\n",
    "plt.xticks(fontsize=24);\n",
    "plt.yticks(fontsize=24);"
   ]
  }
 ],
 "metadata": {
  "kernelspec": {
   "display_name": "Python 3 (ipykernel)",
   "language": "python",
   "name": "python3"
  },
  "language_info": {
   "codemirror_mode": {
    "name": "ipython",
    "version": 3
   },
   "file_extension": ".py",
   "mimetype": "text/x-python",
   "name": "python",
   "nbconvert_exporter": "python",
   "pygments_lexer": "ipython3",
   "version": "3.8.16"
  }
 },
 "nbformat": 4,
 "nbformat_minor": 5
}
