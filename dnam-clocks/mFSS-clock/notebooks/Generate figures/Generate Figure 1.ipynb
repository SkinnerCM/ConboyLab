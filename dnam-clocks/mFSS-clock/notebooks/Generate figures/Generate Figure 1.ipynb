{
 "cells": [
  {
   "cell_type": "code",
   "execution_count": 28,
   "id": "696fda5d",
   "metadata": {},
   "outputs": [],
   "source": [
    "import pandas as pd \n",
    "import numpy as np \n",
    "import seaborn as sns\n",
    "import matplotlib.pyplot as plt\n",
    "%run ../../scripts/feature_selection_analyses.py"
   ]
  },
  {
   "cell_type": "code",
   "execution_count": 3,
   "id": "0f0ff33b",
   "metadata": {},
   "outputs": [],
   "source": [
    "#Load the metadata for the reference `V7 combined` composite dataset \n",
    "# (GSE42861, GSE125105, GSE72774, GSE106648) and separate it by healthy and disease cohorts\n",
    "\n",
    "v7_meta = pd.read_excel('../../data/processed/metadata/V7_pmeta.xlsx')\n",
    "h_meta = v7_meta.copy()\n",
    "d_meta = v7_meta.copy()\n",
    "h_meta = h_meta[h_meta.disease==0]\n",
    "d_meta = d_meta[d_meta.disease==1]\n",
    "h_meta.reset_index(drop=True, inplace=True)\n",
    "d_meta.reset_index(drop=True, inplace=True)"
   ]
  },
  {
   "cell_type": "markdown",
   "id": "d92a44c7",
   "metadata": {},
   "source": [
    "# For each model, generate the age correlation, residual correlation and p- and log-p-values between the healthy and disease cohorts for each CpG in the model"
   ]
  },
  {
   "cell_type": "markdown",
   "id": "3135ee20",
   "metadata": {},
   "source": [
    "### AdaptAge"
   ]
  },
  {
   "cell_type": "code",
   "execution_count": 4,
   "id": "4c44e57a",
   "metadata": {},
   "outputs": [],
   "source": [
    "# Read in and prepare the AdaptAge model \n",
    "adapt = pd.read_csv('../../data/processed/models/AdaptAge/AdaptAge.csv')\n",
    "adapt=prep_model(adapt)\n",
    "\n",
    "#Un-comment to view Dataframe\n",
    "# adapt"
   ]
  },
  {
   "cell_type": "code",
   "execution_count": 5,
   "id": "5b0b982a",
   "metadata": {},
   "outputs": [],
   "source": [
    "# Load the beta-values for the healthy and disease cohorts from the `V7 combined` composite dataset \n",
    "# (GSE42861, GSE125105, GSE72774, GSE106648) for just the AdaptAge CpG selection. For assembling these datasets, \n",
    "# view the `Dataset assembly` notebook\n",
    "\n",
    "h_adapt = pd.read_pickle('../../data/processed/models/AdaptAge/Healthy.pkl')\n",
    "d_adapt = pd.read_pickle('../../data/processed/models/AdaptAge/Disease.pkl')"
   ]
  },
  {
   "cell_type": "code",
   "execution_count": 6,
   "id": "da889c66",
   "metadata": {},
   "outputs": [],
   "source": [
    "# Calculate the age correlations for each CpG in the Adaptage model using the healthy cohort from the composite dataset\n",
    "adapt_corrs, missing = model_corrs(adapt.loc[1:], h_adapt, h_meta)\n",
    "adapt_corrs['importance'] = normalized_importance(adapt_corrs)\n",
    "\n",
    "# Calculate the correlations between age and residuals of the age-correlation for each CpG\n",
    "adapt_corrs['het_rs'] = het_r(h_adapt, adapt, h_meta.age)"
   ]
  },
  {
   "cell_type": "code",
   "execution_count": 7,
   "id": "9b9cf08b",
   "metadata": {},
   "outputs": [],
   "source": [
    "# Perform the Mann-Whitney U test on the beta values of the `V7 combined` composite dataset's healthy and disease cohorts\n",
    "# groups for the AdaptAge model's selected CpGs. \n",
    "\n",
    "adapt_u, adapt_p, adapt_logp = u_test(adapt, h_adapt, d_adapt)\n",
    "adapt_corrs['u-stat']= adapt_u\n",
    "adapt_corrs['mann-p']= adapt_p\n",
    "adapt_corrs['log_p'] = adapt_logp\n",
    "\n",
    "#Un-comment to view\n",
    "# adapt_corrs"
   ]
  },
  {
   "cell_type": "markdown",
   "id": "fcde0dc6",
   "metadata": {},
   "source": [
    "### DamAge"
   ]
  },
  {
   "cell_type": "code",
   "execution_count": 8,
   "id": "52901081",
   "metadata": {},
   "outputs": [],
   "source": [
    "#Read in and prepare the DamAge model \n",
    "dam = pd.read_csv('../../data/processed/models/damAge/damAge.csv')\n",
    "dam = prep_model(dam)\n",
    "\n",
    "#Load the beta-values for the healthy and disease cohorts from the `V7 combined` composite dataset \n",
    "#(GSE42861, GSE125105, GSE72774, GSE106648) for just the DamAge CpG selection\n",
    "\n",
    "h_dam = pd.read_pickle('../../data/processed/models/DamAge/Healthy.pkl')\n",
    "d_dam = pd.read_pickle('../../data/processed/models/DamAge/Disease.pkl')\n",
    "\n",
    "# Calculate the age correlations for each CpG in the Damage model using the healthy cohort from the composite dataset\n",
    "dam_corrs, missing = model_corrs(dam.loc[1:], h_dam, h_meta)\n",
    "dam_corrs['importance'] = normalized_importance(dam_corrs)\n",
    "\n",
    "# Calculate the correlations between age and residuals of the age-correlation for each CpG\n",
    "dam_corrs['het_rs'] = het_r(h_dam, dam, h_meta.age)\n",
    "\n",
    "# Perform the Mann-Whitney U test on the beta values of the `V7 combined` composite dataset's healthy and disease cohorts\n",
    "# groups for the DamAge model's selected CpGs. \n",
    "dam_u, dam_p, dam_logp = u_test(dam, h_dam, d_dam)\n",
    "dam_corrs['u-stat']= dam_u\n",
    "dam_corrs['mann-p']= dam_p\n",
    "dam_corrs['log_p'] = dam_logp"
   ]
  },
  {
   "cell_type": "markdown",
   "id": "00e992c7",
   "metadata": {},
   "source": [
    "### CausAge"
   ]
  },
  {
   "cell_type": "code",
   "execution_count": 24,
   "id": "5da72318",
   "metadata": {},
   "outputs": [],
   "source": [
    "#Read in and prepare the CausAge model \n",
    "caus = pd.read_csv('../../data/processed/models/CausAge/CausAge.csv')\n",
    "caus = prep_model(caus)\n",
    "\n",
    "#Load the beta-values for the healthy and disease cohorts from the `V7 combined` composite dataset \n",
    "#(GSE42861, GSE125105, GSE72774, GSE106648) for just the CausAge CpG selection\n",
    "\n",
    "h_caus = pd.read_pickle('../../data/processed/models/CausAge/Healthy.pkl')\n",
    "d_caus = pd.read_pickle('../../data/processed/models/CausAge/Disease.pkl')\n",
    "\n",
    "# Calculate the age correlations for each CpG in the causage model using the healthy cohort from the composite dataset\n",
    "caus_corrs, missing = model_corrs(caus.loc[1:], h_caus, h_meta)\n",
    "caus_corrs['importance'] = normalized_importance(caus_corrs)\n",
    "\n",
    "# Calculate the correlations between age and residuals of the age-correlation for each CpG\n",
    "caus_corrs['het_rs'] = het_r(h_caus, caus, h_meta.age)\n",
    "\n",
    "# Perform the Mann-Whitney U test on the beta values of the `V7 combined` composite dataset's healthy and disease cohorts\n",
    "# groups for the CausAge model's selected CpGs. \n",
    "caus_u, caus_p, caus_logp = u_test(caus, h_caus, d_caus)\n",
    "caus_corrs['u-stat'] = caus_u\n",
    "caus_corrs['mann-p'] = caus_p\n",
    "caus_corrs['log_p'] = caus_logp"
   ]
  },
  {
   "cell_type": "markdown",
   "id": "5bcf67c7",
   "metadata": {},
   "source": [
    "### Hannum"
   ]
  },
  {
   "cell_type": "code",
   "execution_count": 29,
   "id": "114029c9",
   "metadata": {},
   "outputs": [],
   "source": [
    "#Read in and prepare the Hannum model \n",
    "hannum = pd.read_excel('../../data/processed/models/Hannum/Hannum model.xlsx')\n",
    "hannum = prep_model(hannum)\n",
    "\n",
    "#Load the beta-values for the healthy and disease cohorts from the `V7 combined` composite dataset \n",
    "#(GSE42861, GSE125105, GSE72774, GSE106648) for just the Hannum CpG selection\n",
    "\n",
    "h_hannum = pd.read_pickle('../../data/processed/models/Hannum/Healthy.pkl')\n",
    "d_hannum = pd.read_pickle('../../data/processed/models/Hannum/Disease.pkl')\n",
    "\n",
    "# Calculate the age correlations for each CpG in the Hannum model using the healthy cohort from the composite dataset\n",
    "hannum_corrs, missing = model_corrs(hannum.loc[1:], h_hannum, h_meta)\n",
    "# hannum_corrs['importance'] = normalized_importance(hannum_corrs)\n",
    "\n",
    "# # Calculate the correlations between age and residuals of the age-correlation for each CpG\n",
    "# hannum_corrs['het_rs'] = het_r(h_hannum, hannum, h_meta.age)\n",
    "\n",
    "# # Perform the Mann-Whitney U test on the beta values of the `V7 combined` composite dataset's healthy and disease cohorts\n",
    "# # groups for the Hannum model's selected CpGs. \n",
    "# hannum_u, hannum_p, hannum_logp = u_test(hannum, h_hannum, d_hannum)\n",
    "# hannum_corrs['u-stat']= hannum_u\n",
    "# hannum_corrs['mann-p']= hannum_p\n",
    "# hannum_corrs['log_p'] = hannum_logp"
   ]
  },
  {
   "cell_type": "markdown",
   "id": "3a244051",
   "metadata": {},
   "source": [
    "### Horvath"
   ]
  },
  {
   "cell_type": "code",
   "execution_count": null,
   "id": "b7915424",
   "metadata": {},
   "outputs": [],
   "source": [
    "#Read in and prepare the horvath model \n",
    "horvath = pd.read_excel('../../data/processed/models/Horvath/Horvath model.xlsx')\n",
    "horvath = prep_model(horvath)\n",
    "\n",
    "#Load the beta-values for the healthy and disease cohorts from the `V7 combined` composite dataset \n",
    "#(GSE42861, GSE125105, GSE72774, GSE106648) for just the Horvath CpG selection\n",
    "\n",
    "h_horvath = pd.read_pickle('../../data/processed/models/Horvath/Healthy.pkl')\n",
    "d_horvath = pd.read_pickle('../../data/processed/models/Horvath/Disease.pkl')\n",
    "\n",
    "# Calculate the age correlations for each CpG in the horvath model using the healthy cohort from the composite dataset\n",
    "horvath_corrs, missing = model_corrs(horvath.loc[1:], h_horvath, h_meta)\n",
    "horvath_corrs['importance'] = normalized_importance(horvath_corrs)\n",
    "\n",
    "# Calculate the correlations between age and residuals of the age-correlation for each CpG\n",
    "horvath_corrs['het_rs'] = het_r(h_horvath, horvath, h_meta.age)\n",
    "\n",
    "# Perform the Mann-Whitney U test on the beta values of the `V7 combined` composite dataset's healthy and disease cohorts\n",
    "# groups for the Horvath model's selected CpGs. \n",
    "horvath_u, horvath_p, horvath_logp = u_test(horvath, h_horvath, d_horvath)\n",
    "horvath_corrs['u-stat']= horvath_u\n",
    "horvath_corrs['mann-p']= horvath_p\n",
    "horvath_corrs['log_p'] = horvath_logp"
   ]
  },
  {
   "cell_type": "markdown",
   "id": "725d046d",
   "metadata": {},
   "source": [
    "### PhenoAge"
   ]
  },
  {
   "cell_type": "code",
   "execution_count": null,
   "id": "830bb467",
   "metadata": {},
   "outputs": [],
   "source": [
    "#Read in and prepare the phenoage model \n",
    "pheno = pd.read_excel('../../data/processed/models/Phenoage/Phenoage model.xlsx')\n",
    "pheno = prep_model(pheno)\n",
    "\n",
    "#Load the beta-values for the healthy and disease cohorts from the `V7 combined` composite dataset \n",
    "#(GSE42861, GSE125105, GSE72774, GSE106648) for just the Phenoage CpG selection\n",
    "\n",
    "h_pheno = pd.read_pickle('../../data/processed/models/Phenoage/Healthy.pkl')\n",
    "d_pheno = pd.read_pickle('../../data/processed/models/Phenoage/Disease.pkl')\n",
    "\n",
    "# Calculate the age correlations for each CpG in the phenoage model using the healthy cohort from the composite dataset\n",
    "pheno_corrs, missing = model_corrs(pheno.loc[1:], h_pheno, h_meta)\n",
    "pheno_corrs['importance'] = normalized_importance(pheno_corrs)\n",
    "\n",
    "# Calculate the correlations between age and residuals of the age-correlation for each CpG\n",
    "pheno_corrs['het_rs'] = het_r(h_pheno, pheno, h_meta.age)\n",
    "\n",
    "# Perform the Mann-Whitney U test on the beta values of the `V7 combined` composite dataset's healthy and disease cohorts\n",
    "# groups for the PhenoAge model's selected CpGs. \n",
    "pheno_u, pheno_p, pheno_logp = u_test(pheno, h_pheno, d_pheno)\n",
    "pheno_corrs['u-stat']= pheno_u\n",
    "pheno_corrs['mann-p']= pheno_p\n",
    "pheno_corrs['log_p'] = pheno_logp"
   ]
  },
  {
   "cell_type": "markdown",
   "id": "0ff0517a",
   "metadata": {},
   "source": [
    "### PACE"
   ]
  },
  {
   "cell_type": "code",
   "execution_count": null,
   "id": "0b197398",
   "metadata": {},
   "outputs": [],
   "source": [
    "#Read in and prepare the PACE model \n",
    "pace = pd.read_excel('../../data/processed/models/PACE/PACE.xlsx')\n",
    "pace = prep_model(pace)\n",
    "\n",
    "#Load the beta-values for the healthy and disease cohorts from the `V7 combined` composite dataset \n",
    "#(GSE42861, GSE125105, GSE72774, GSE106648) for just the PACE CpG selection\n",
    "\n",
    "h_pace = pd.read_pickle('../../data/processed/models/PACE/Healthy.pkl')\n",
    "d_pace = pd.read_pickle('../../data/processed/models/PACE/Disease.pkl')\n",
    "\n",
    "# Calculate the age correlations for each CpG in the PACE model using the healthy cohort from the composite dataset\n",
    "pace_corrs, missing = model_corrs(pace.loc[1:], h_pace, h_meta)\n",
    "pace_corrs['importance'] = normalized_importance(pace_corrs)\n",
    "\n",
    "# Calculate the correlations between age and residuals of the age-correlation for each CpG\n",
    "pace_corrs['het_rs'] = het_r(h_pace, pace, h_meta.age)\n",
    "\n",
    "# Perform the Mann-Whitney U test on the beta values of the `V7 combined` composite dataset's healthy and disease cohorts\n",
    "# groups for the PACE model's selected CpGs. \n",
    "pace_u, pace_p, pace_logp = u_test(pace, h_pace, d_pace)\n",
    "pace_corrs['u-stat']= pace_u\n",
    "pace_corrs['mann-p']= pace_p\n",
    "pace_corrs['log_p'] = pace_logp"
   ]
  },
  {
   "cell_type": "markdown",
   "id": "83c42bd9",
   "metadata": {},
   "source": [
    "# Combine all of the model statistics into single dataframe"
   ]
  },
  {
   "cell_type": "code",
   "execution_count": null,
   "id": "f8a04a6f",
   "metadata": {},
   "outputs": [],
   "source": [
    "# Add a model ID column to dataframe\n",
    "\n",
    "horvath_corrs['model'] = 'Horvath'\n",
    "hannum_corrs['model'] = 'Hannum'\n",
    "pheno_corrs['model'] = 'PhenoAge'\n",
    "pace_corrs['model'] = 'PACE'\n",
    "adapt_corrs['model'] = 'AdaptAge'\n",
    "dam_corrs['model'] = 'DamAge'\n",
    "caus_corrs['model'] = 'CausAge'\n",
    "\n",
    "# Combine into single dataframe\n",
    "comb_corrs = pd.concat([horvath_corrs,hannum_corrs,pheno_corrs,pace_corrs,adapt_corrs,dam_corrs, caus_corrs], axis=0)"
   ]
  },
  {
   "cell_type": "code",
   "execution_count": null,
   "id": "754d7950",
   "metadata": {},
   "outputs": [],
   "source": [
    "# Create custom color palette for plots\n",
    "\n",
    "c_palette = sns.color_palette()\n",
    "custom = c_palette[:5] + [c_palette[6]]+ c_palette[9:]"
   ]
  },
  {
   "cell_type": "markdown",
   "id": "455a35d9",
   "metadata": {},
   "source": [
    "# Generate Figure 1a"
   ]
  },
  {
   "cell_type": "code",
   "execution_count": null,
   "id": "d0febc53",
   "metadata": {},
   "outputs": [],
   "source": [
    "plt.figure(figsize=(10, 8)) \n",
    "\n",
    "sns.scatterplot(data=comb_corrs,x='importance', y='R2', hue='model', palette = custom\n",
    "                ,s=280, alpha=0.8, edgecolor=\"k\", linewidth=0.75 ,zorder=10)\n",
    "\n",
    "plt.axhline(y=horvath_corrs['R2'].mean(),color=custom[0], linestyle='--',linewidth=3, zorder=1)\n",
    "plt.axhline(y=hannum_corrs['R2'].mean(),color=custom[1], linestyle='--',linewidth=3, zorder=1)\n",
    "plt.axhline(y=pheno_corrs['R2'].mean(),color=custom[2], linestyle='--',linewidth=3, zorder=1)\n",
    "plt.axhline(y=pace_corrs['R2'].mean(),color=custom[3], linestyle='--',linewidth=3)\n",
    "plt.axhline(y=adapt_corrs['R2'].mean(),color=custom[4], linestyle='--',linewidth=3)\n",
    "plt.axhline(y=dam_corrs['R2'].mean(),color=custom[5], linestyle='--',linewidth=3)\n",
    "plt.axhline(y=caus_corrs['R2'].mean(),color=custom[6], linestyle='--',linewidth=3)\n",
    "\n",
    "plt.xlabel('Normalized Importance',fontsize=18)\n",
    "plt.ylabel('R$^2$',fontsize=18)\n",
    "plt.xticks(fontsize=15)\n",
    "plt.yticks(fontsize=15)\n",
    "plt.legend(fontsize='x-large', title_fontsize='50');"
   ]
  },
  {
   "cell_type": "markdown",
   "id": "9033af4e",
   "metadata": {},
   "source": [
    "# Generate Figure 1b"
   ]
  },
  {
   "cell_type": "code",
   "execution_count": null,
   "id": "300f7e09",
   "metadata": {},
   "outputs": [],
   "source": [
    "plt.figure(figsize=(10, 8)) \n",
    "\n",
    "sns.scatterplot(data=comb_corrs,x='importance', y='het_rs', hue='model', palette = custom\n",
    "                ,s=280, alpha=0.8, edgecolor=\"k\", linewidth=0.75,zorder=10)\n",
    "\n",
    "plt.axhline(y=horvath_corrs['het_rs'].mean(),color=custom[0], linestyle='--',linewidth=3, zorder=1)\n",
    "plt.axhline(y=hannum_corrs['het_rs'].mean(),color=custom[1], linestyle='--',linewidth=3, zorder=1)\n",
    "plt.axhline(y=pheno_corrs['het_rs'].mean(),color=custom[2], linestyle='--',linewidth=3, zorder=1)\n",
    "plt.axhline(y=pace_corrs['het_rs'].mean(),color=custom[3], linestyle='--',linewidth=3)\n",
    "plt.axhline(y=adapt_corrs['het_rs'].mean(),color=custom[4], linestyle='--',linewidth=3)\n",
    "plt.axhline(y=dam_corrs['het_rs'].mean(),color=custom[5], linestyle='--',linewidth=3)\n",
    "plt.axhline(y=caus_corrs['het_rs'].mean(),color=custom[6], linestyle='--',linewidth=3)\n",
    "\n",
    "plt.xlabel('Normalized Importance',fontsize=18)\n",
    "plt.ylabel('Residuals R$^2$',fontsize=18)\n",
    "plt.xticks(fontsize=15)\n",
    "plt.yticks(fontsize=15)\n",
    "plt.legend(fontsize='x-large', title_fontsize='50');"
   ]
  },
  {
   "cell_type": "markdown",
   "id": "8ba5c87b",
   "metadata": {},
   "source": [
    "# Generate Figure 1c"
   ]
  },
  {
   "cell_type": "code",
   "execution_count": null,
   "id": "fe211738",
   "metadata": {},
   "outputs": [],
   "source": [
    "plt.figure(figsize=(10, 8)) \n",
    "\n",
    "sns.scatterplot(data=comb_corrs,x='importance', y='log_p', hue='model', palette = custom\n",
    "                ,s=280, alpha=0.8, edgecolor=\"k\", linewidth=0.75,zorder=10)\n",
    "\n",
    "plt.axhline(y=horvath_corrs['log_p'].mean(),color=custom[0], linestyle='--',linewidth=3, zorder=1)\n",
    "plt.axhline(y=hannum_corrs['log_p'].mean(),color=custom[1], linestyle='--',linewidth=3, zorder=1)\n",
    "plt.axhline(y=pheno_corrs['log_p'].mean(),color=custom[2], linestyle='--',linewidth=3, zorder=1)\n",
    "plt.axhline(y=pace_corrs['log_p'].mean(),color=custom[3], linestyle='--',linewidth=3)\n",
    "plt.axhline(y=adapt_corrs['log_p'].mean(),color=custom[4], linestyle='--',linewidth=3)\n",
    "plt.axhline(y=dam_corrs['log_p'].mean(),color=custom[5], linestyle='--',linewidth=3)\n",
    "plt.axhline(y=caus_corrs['log_p'].mean(),color=custom[6], linestyle='--',linewidth=3)\n",
    "\n",
    "plt.xlabel('Normalized Importance',fontsize=18)\n",
    "plt.ylabel('-log(p)',fontsize=18)\n",
    "plt.xticks(fontsize=15)\n",
    "plt.yticks(fontsize=15)\n",
    "plt.legend(fontsize='x-large', title_fontsize='50');"
   ]
  }
 ],
 "metadata": {
  "kernelspec": {
   "display_name": "Python 3 (ipykernel)",
   "language": "python",
   "name": "python3"
  },
  "language_info": {
   "codemirror_mode": {
    "name": "ipython",
    "version": 3
   },
   "file_extension": ".py",
   "mimetype": "text/x-python",
   "name": "python",
   "nbconvert_exporter": "python",
   "pygments_lexer": "ipython3",
   "version": "3.8.16"
  }
 },
 "nbformat": 4,
 "nbformat_minor": 5
}
