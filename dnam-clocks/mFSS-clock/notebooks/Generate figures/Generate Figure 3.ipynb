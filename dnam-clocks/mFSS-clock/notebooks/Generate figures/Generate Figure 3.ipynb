{
 "cells": [
  {
   "cell_type": "code",
   "execution_count": 2,
   "id": "bfa7e681",
   "metadata": {},
   "outputs": [],
   "source": [
    "import pandas as pd \n",
    "import numpy as np \n",
    "import seaborn as sns\n",
    "import matplotlib.pyplot as plt\n",
    "%run ../../scripts/mfss_model_train.py"
   ]
  },
  {
   "cell_type": "markdown",
   "id": "cbf39069",
   "metadata": {},
   "source": [
    "## Create the Hannum_age_corrs.xlsx (Requires download of processed GSE40279 dataset  Hannum32.pkl)"
   ]
  },
  {
   "cell_type": "code",
   "execution_count": 4,
   "id": "9515b995",
   "metadata": {},
   "outputs": [],
   "source": [
    "# age_corrs = get_age_corrs(hannum, hannum_meta)\n",
    "# age_corrs = age_corrs.reset_index(drop=True)"
   ]
  },
  {
   "cell_type": "markdown",
   "id": "19244aca",
   "metadata": {},
   "source": [
    "## Load train and test data"
   ]
  },
  {
   "cell_type": "code",
   "execution_count": 5,
   "id": "b490c02b",
   "metadata": {},
   "outputs": [],
   "source": [
    "#get the age_correlations so we can focus on the shifts of just the top N age-correlated CpGs\n",
    "age_corrs=pd.read_excel('../../data/processed/cpg_sets/Hannum_age_corrs.xlsx')"
   ]
  },
  {
   "cell_type": "code",
   "execution_count": 6,
   "id": "152cae18",
   "metadata": {},
   "outputs": [],
   "source": [
    "#filter out SNPS\n",
    "manifest = pd.read_csv('../../data/processed/metadata/450K_manifest.csv', low_memory=False)\n",
    "# Get all SNP-associated CpGs in 450K array \n",
    "snps = set(manifest[~manifest.Probe_SNPs.isna()].Name)\n",
    "no_snps = list(set(age_corrs.CpG)-snps)\n",
    "age_corrs = age_corrs[age_corrs['CpG'].isin(no_snps)]"
   ]
  },
  {
   "cell_type": "code",
   "execution_count": null,
   "id": "ba91f53d",
   "metadata": {},
   "outputs": [],
   "source": []
  },
  {
   "cell_type": "code",
   "execution_count": null,
   "id": "291dddf2",
   "metadata": {},
   "outputs": [],
   "source": []
  }
 ],
 "metadata": {
  "kernelspec": {
   "display_name": "Python 3 (ipykernel)",
   "language": "python",
   "name": "python3"
  },
  "language_info": {
   "codemirror_mode": {
    "name": "ipython",
    "version": 3
   },
   "file_extension": ".py",
   "mimetype": "text/x-python",
   "name": "python",
   "nbconvert_exporter": "python",
   "pygments_lexer": "ipython3",
   "version": "3.8.16"
  }
 },
 "nbformat": 4,
 "nbformat_minor": 5
}
