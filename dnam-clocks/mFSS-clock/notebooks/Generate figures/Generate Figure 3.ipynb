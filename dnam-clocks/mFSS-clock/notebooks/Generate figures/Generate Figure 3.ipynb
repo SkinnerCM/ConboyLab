{
 "cells": [
  {
   "cell_type": "code",
   "execution_count": 2,
   "id": "bfa7e681",
   "metadata": {},
   "outputs": [],
   "source": [
    "import pandas as pd \n",
    "import numpy as np \n",
    "import seaborn as sns\n",
    "import matplotlib.pyplot as plt\n",
    "%run ../../scripts/mfss_model_train.py\n",
    "%run ../../scripts/utils/data_processing.py"
   ]
  },
  {
   "cell_type": "markdown",
   "id": "19244aca",
   "metadata": {},
   "source": [
    "## Load train and test data"
   ]
  },
  {
   "cell_type": "code",
   "execution_count": null,
   "id": "c0de072a",
   "metadata": {},
   "outputs": [],
   "source": [
    "data_path = '../dnam-clocks/mFSS-clock/data/processed/'"
   ]
  },
  {
   "cell_type": "code",
   "execution_count": null,
   "id": "ba91f53d",
   "metadata": {},
   "outputs": [],
   "source": [
    "# Read in the Hannum dataset for training\n",
    "hannum = pd.read_pickle(data_path + 'GSE40279_hannum/hannum32.pkl')\n",
    "hannum_meta = pd.read_excel(data_path + 'GSE40279_hannum/hannum_pmeta.xlsx')"
   ]
  },
  {
   "cell_type": "code",
   "execution_count": null,
   "id": "291dddf2",
   "metadata": {},
   "outputs": [],
   "source": [
    "# Read in the Lehne datasat for testing\n",
    "lehne = np.load(data_path + 'GSE55763_lehne/lehne32_reduced.npy')\n",
    "lehne_meta = pd.read_excel(data_path + 'GSE55763_lehne/lehne_pmeta.xlsx')\n",
    "lehne_cgs = list_reader(data_path + 'GSE55763_lehne/cgs')\n",
    "lehne = pd.DataFrame(lehne, columns=lehne_cgs)"
   ]
  },
  {
   "cell_type": "markdown",
   "id": "cbf39069",
   "metadata": {},
   "source": [
    "### Get the individual chronological age correlation of every CpG using the GSE40279 dataset as a reference (Requires download of processed GSE40279 dataset  Hannum32.pkl)"
   ]
  },
  {
   "cell_type": "code",
   "execution_count": 4,
   "id": "9515b995",
   "metadata": {},
   "outputs": [],
   "source": [
    "##Uncomment to run this process\n",
    "# age_corrs = get_age_corrs(hannum, hannum_meta)\n",
    "# age_corrs = age_corrs.reset_index(drop=True)"
   ]
  },
  {
   "cell_type": "markdown",
   "id": "3c032d06",
   "metadata": {},
   "source": [
    "### Or read in the age correlations if you already have 'Hannum_age_corrs.xlsx' stored in 'cpg_sets' directory"
   ]
  },
  {
   "cell_type": "code",
   "execution_count": 5,
   "id": "b490c02b",
   "metadata": {},
   "outputs": [],
   "source": [
    "age_corrs=pd.read_excel(data_path + 'cpg_sets/Hannum_age_corrs.xlsx')"
   ]
  },
  {
   "cell_type": "markdown",
   "id": "5fc722aa",
   "metadata": {},
   "source": [
    "### Filter out SNPs using the 450K manifest"
   ]
  },
  {
   "cell_type": "code",
   "execution_count": null,
   "id": "9670c0c5",
   "metadata": {},
   "outputs": [],
   "source": [
    "manifest = pd.read_csv(data_path + 'metadata/450K_manifest.csv', low_memory=False)\n",
    "# Get all SNP-associated CpGs in 450K array \n",
    "snps = set(manifest[~manifest.Probe_SNPs.isna()].Name)\n",
    "no_snps = list(set(age_corrs.CpG)-snps)\n",
    "age_corrs = age_corrs[age_corrs['CpG'].isin(no_snps)]"
   ]
  },
  {
   "cell_type": "markdown",
   "id": "27f92ecd",
   "metadata": {},
   "source": [
    "### GSE55763 has some missing CpGs so need to remove those from the age_corrs rows"
   ]
  },
  {
   "cell_type": "code",
   "execution_count": 6,
   "id": "152cae18",
   "metadata": {},
   "outputs": [],
   "source": [
    "overlap = list(set(lehne.columns)&set(age_corrs.CpG))\n",
    "\n",
    "filtered_age_corrs= age_corrs[age_corrs['CpG'].isin(overlap)]\n",
    "filtered_age_corrs.reset_index(inplace=True)"
   ]
  },
  {
   "cell_type": "markdown",
   "id": "acd6c8c8",
   "metadata": {},
   "source": [
    "## Train an mFSS OLS model on the top 10,000 CpGs by strength of chronological age correlation."
   ]
  },
  {
   "cell_type": "code",
   "execution_count": null,
   "id": "5af3cf86",
   "metadata": {},
   "outputs": [],
   "source": [
    "model_cgs, best_iter, val_mse, val_r_val, test_mse, test_r_val = mfss_ols(filtered_age_corrs.CpG.tolist()[:10000], hannum, hannum_meta,\n",
    "                                                                             lehne, lehne_meta, 150,flag=False)"
   ]
  },
  {
   "cell_type": "code",
   "execution_count": null,
   "id": "de0af0a2",
   "metadata": {},
   "outputs": [],
   "source": []
  },
  {
   "cell_type": "code",
   "execution_count": null,
   "id": "19afe2d3",
   "metadata": {},
   "outputs": [],
   "source": []
  }
 ],
 "metadata": {
  "kernelspec": {
   "display_name": "Python 3 (ipykernel)",
   "language": "python",
   "name": "python3"
  },
  "language_info": {
   "codemirror_mode": {
    "name": "ipython",
    "version": 3
   },
   "file_extension": ".py",
   "mimetype": "text/x-python",
   "name": "python",
   "nbconvert_exporter": "python",
   "pygments_lexer": "ipython3",
   "version": "3.8.16"
  }
 },
 "nbformat": 4,
 "nbformat_minor": 5
}
