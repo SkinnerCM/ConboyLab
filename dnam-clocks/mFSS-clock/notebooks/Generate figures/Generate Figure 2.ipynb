{
 "cells": [
  {
   "cell_type": "code",
   "execution_count": 2,
   "id": "c1109b46",
   "metadata": {},
   "outputs": [],
   "source": [
    "import pandas as pd \n",
    "import numpy as np \n",
    "import seaborn as sns\n",
    "import matplotlib.pyplot as plt\n",
    "%run ../../scripts/model_prediction_analyses.py"
   ]
  },
  {
   "cell_type": "markdown",
   "id": "8cdc5016",
   "metadata": {},
   "source": [
    "## Load the metadata for the reference `V7 combined` composite dataset (GSE42861, GSE125105, GSE72774, GSE106648) and separate it by healthy and disease cohorts"
   ]
  },
  {
   "cell_type": "code",
   "execution_count": 3,
   "id": "5f25aa7a",
   "metadata": {},
   "outputs": [],
   "source": [
    "v7_meta = pd.read_excel('../../data/processed/metadata/V7_pmeta.xlsx')\n",
    "h_meta = v7_meta.copy()\n",
    "d_meta = v7_meta.copy()\n",
    "h_meta = h_meta[h_meta.disease==0]\n",
    "d_meta = d_meta[d_meta.disease==1]\n",
    "h_meta.reset_index(drop=True, inplace=True)\n",
    "d_meta.reset_index(drop=True, inplace=True)"
   ]
  },
  {
   "cell_type": "markdown",
   "id": "483f05d0",
   "metadata": {},
   "source": [
    "## Load the AdaptAge model and the beta values of the healthy cohort of the V7 combined dataset filtered on the AdaptAge model's CpG selection"
   ]
  },
  {
   "cell_type": "code",
   "execution_count": 4,
   "id": "296aa309",
   "metadata": {},
   "outputs": [],
   "source": [
    "# Load the model\n",
    "adapt = pd.read_csv('../../data/processed/models/AdaptAge/AdaptAge.csv')\n",
    "\n",
    "# Read in the healthy cohort of the V7 combined dataset filtered on the AdaptAge model's CpG selection\n",
    "h_adapt = pd.read_pickle('../../data/processed/models/AdaptAge/Healthy.pkl')"
   ]
  },
  {
   "cell_type": "markdown",
   "id": "f989158d",
   "metadata": {},
   "source": [
    "## Get the AdaptAge prediction residuals for the V7 healthy cohort, compute the summary statistics for the residuals and fit a normal distribution to the residuals. All of this data will later be used to generate Figure 2, Supplementary Figure 2 and Table 1"
   ]
  },
  {
   "cell_type": "code",
   "execution_count": 5,
   "id": "0db0aab1",
   "metadata": {},
   "outputs": [],
   "source": [
    "# Prep the AdaptAge model, giving it the right column names and CpG order matching that of the dataset\n",
    "adapt=prep_model(adapt)"
   ]
  },
  {
   "cell_type": "code",
   "execution_count": 21,
   "id": "06dd79f4",
   "metadata": {},
   "outputs": [
    {
     "name": "stdout",
     "output_type": "stream",
     "text": [
      "Help on function prep_model in module __main__:\n",
      "\n",
      "prep_model(model)\n",
      "    Prepare a model for making predictions.\n",
      "    \n",
      "    This function expects a DataFrame with two columns:\n",
      "    - The first column should contain the CpG sites for the model.\n",
      "    - The second column should contain the corresponding weights or importance scores.\n",
      "    \n",
      "    The function renames the columns to 'CpG' and 'Weight' and sorts the DataFrame\n",
      "    by the 'CpG' column.\n",
      "    \n",
      "    Parameters:\n",
      "    data (pd.DataFrame): The input DataFrame containing the dataset.\n",
      "    \n",
      "    Returns:\n",
      "    pd.DataFrame: The processed DataFrame with columns renamed and sorted by 'CpG'.\n",
      "\n"
     ]
    }
   ],
   "source": [
    "help(prep_model)"
   ]
  },
  {
   "cell_type": "code",
   "execution_count": 6,
   "id": "03a24005",
   "metadata": {},
   "outputs": [],
   "source": [
    "# Get the AdaptAge predictions\n",
    "adapt_preds = get_preds(h_adapt, adapt) "
   ]
  },
  {
   "cell_type": "code",
   "execution_count": 7,
   "id": "7c21c3df",
   "metadata": {},
   "outputs": [],
   "source": [
    "# Calculate the residuals\n",
    "adapt_resids = get_residuals(h_adapt, h_meta, adapt,'AdaptAge')"
   ]
  },
  {
   "cell_type": "code",
   "execution_count": 8,
   "id": "72f035c4",
   "metadata": {},
   "outputs": [],
   "source": [
    "# Calculate the mean and standard deviation of the residuals\n",
    "mu, std = get_mu_std(adapt_resids)"
   ]
  },
  {
   "cell_type": "code",
   "execution_count": 9,
   "id": "902ffd42",
   "metadata": {},
   "outputs": [],
   "source": [
    "# Calculate the thresholds for the 95% interpercentile range (95-IPR) of a normal distribution fit to the residuals\n",
    "cutoffs = get_cutoffs(mu, std)"
   ]
  },
  {
   "cell_type": "code",
   "execution_count": 10,
   "id": "b976fb73",
   "metadata": {},
   "outputs": [],
   "source": [
    "# Generate the PDF for the AdaptAge residuals for the V7 healhty cohort\n",
    "h_adapt_dist = create_residual_distribution(adapt_resids, mu, std, 'AdaptAge')"
   ]
  },
  {
   "cell_type": "code",
   "execution_count": 23,
   "id": "5d0a1ee5",
   "metadata": {},
   "outputs": [],
   "source": [
    "# Compile the summary statistics for the AdaptAge residuals for the V7 healthy cohort\n",
    "h_adapt_stats = [('AdaptAge',cutoffs[0], cutoffs[1], round(mu, 2))]"
   ]
  },
  {
   "cell_type": "markdown",
   "id": "375fcac4",
   "metadata": {},
   "source": [
    "## The model_errs_and_dist function performs all of the above. Use it to generate the distribution and summary statistics for the other models "
   ]
  },
  {
   "cell_type": "code",
   "execution_count": 15,
   "id": "3994187a",
   "metadata": {},
   "outputs": [],
   "source": [
    "# Load the other models\n",
    "horvath = pd.read_excel('../../data/processed/models/Horvath/Horvath model.xlsx')\n",
    "hannum = pd.read_excel('../../data/processed/models/Hannum/Hannum model.xlsx')\n",
    "pheno = pd.read_csv('../../data/processed/models/PhenoAge/PhenoAge.csv')\n",
    "dam = pd.read_csv('../../data/processed/models/DamAge/DamAge.csv')\n",
    "caus = pd.read_csv('../../data/processed/models/CausAge/CausAge.csv')\n",
    "\n",
    "# Read in the healthy cohort of the V7 combined dataset filtered on the respective models' CpG selections\n",
    "h_horvath = pd.read_pickle('../../data/processed/models/Horvath/Healthy.pkl')\n",
    "h_hannum = pd.read_pickle('../../data/processed/models/Hannum/Healthy.pkl')\n",
    "h_pheno = pd.read_pickle('../../data/processed/models/PhenoAge/Healthy.pkl')\n",
    "h_dam = pd.read_pickle('../../data/processed/models/DamAge/Healthy.pkl')\n",
    "h_caus = pd.read_pickle('../../data/processed/models/CausAge/Healthy.pkl')"
   ]
  },
  {
   "cell_type": "code",
   "execution_count": 18,
   "id": "3d0b7c09",
   "metadata": {},
   "outputs": [],
   "source": [
    "# Read in the patient cohort of the V7 combined dataset filtered on the respective models' CpG selections\n",
    "d_horvath = pd.read_pickle('../../data/processed/models/Horvath/Disease.pkl')\n",
    "d_hannum = pd.read_pickle('../../data/processed/models/Hannum/Disease.pkl')\n",
    "d_pheno = pd.read_pickle('../../data/processed/models/PhenoAge/Disease.pkl')\n",
    "d_adapt = pd.read_pickle('../../data/processed/models/AdaptAge/Disease.pkl')\n",
    "d_dam = pd.read_pickle('../../data/processed/models/DamAge/Disease.pkl')\n",
    "d_caus = pd.read_pickle('../../data/processed/models/CausAge/Disease.pkl')"
   ]
  },
  {
   "cell_type": "code",
   "execution_count": 16,
   "id": "4e80e0e0",
   "metadata": {},
   "outputs": [],
   "source": [
    "# Get the summary statistics and distributions for the healthy cohorts of the other models\n",
    "h_horvath_stats, h_horvath_fit = model_errs_and_dist(h_horvath, h_meta, horvath, 'Horvath')\n",
    "h_hannum_stats, h_hannum_fit = model_errs_and_dist(h_hannum, h_meta, hannum, 'Hannum')\n",
    "h_pheno_stats, h_pheno_fit = model_errs_and_dist(h_pheno, h_meta, pheno, 'Horvath')\n",
    "h_dam_stats, h_dam_fit = model_errs_and_dist(h_dam, h_meta, dam, 'DamAge')\n",
    "h_caus_stats, h_caus_fit = model_errs_and_dist(h_caus, h_meta, caus, 'CausAge')"
   ]
  },
  {
   "cell_type": "code",
   "execution_count": 19,
   "id": "d439997f",
   "metadata": {},
   "outputs": [],
   "source": [
    "# Get the summary statistics and distributions for the patient cohorts of the other models\n",
    "d_horvatd_stats, d_horvatd_fit = model_errs_and_dist(d_horvath, d_meta, horvath, 'Horvath')\n",
    "d_hannum_stats, d_hannum_fit = model_errs_and_dist(d_hannum, d_meta, hannum, 'Hannum')\n",
    "d_pheno_stats, d_pheno_fit = model_errs_and_dist(d_pheno, d_meta, pheno, 'Horvath')\n",
    "d_dam_stats, d_dam_fit = model_errs_and_dist(d_dam, d_meta, dam, 'DamAge')\n",
    "d_caus_stats, d_caus_fit = model_errs_and_dist(d_caus, d_meta, caus, 'CausAge')"
   ]
  },
  {
   "cell_type": "code",
   "execution_count": null,
   "id": "746a0ef0",
   "metadata": {},
   "outputs": [],
   "source": []
  }
 ],
 "metadata": {
  "kernelspec": {
   "display_name": "Python 3 (ipykernel)",
   "language": "python",
   "name": "python3"
  },
  "language_info": {
   "codemirror_mode": {
    "name": "ipython",
    "version": 3
   },
   "file_extension": ".py",
   "mimetype": "text/x-python",
   "name": "python",
   "nbconvert_exporter": "python",
   "pygments_lexer": "ipython3",
   "version": "3.8.16"
  }
 },
 "nbformat": 4,
 "nbformat_minor": 5
}
