{
 "cells": [
  {
   "cell_type": "code",
   "execution_count": null,
   "metadata": {},
   "outputs": [],
   "source": [
    "import pandas as pd \n",
    "import numpy as np \n",
    "from scipy import stats\n",
    "from sklearn import metrics\n",
    "from sklearn.linear_model import LinearRegression \n",
    "from sklearn.datasets import make_regression\n",
    "from sklearn.preprocessing \n",
    "import StandardScaler \n",
    "from sklearn.model_selection import train_test_split"
   ]
  },
  {
   "cell_type": "code",
   "execution_count": null,
   "metadata": {},
   "outputs": [],
   "source": [
    "rs = [] \n",
    "maes = []"
   ]
  },
  {
   "cell_type": "code",
   "execution_count": null,
   "metadata": {},
   "outputs": [],
   "source": [
    "#specify number of iterations \n",
    "\n",
    "for i in range(iterations):\n",
    "\n",
    "    #data is a Pandas dataframe with GSMs in rows, CpGs in columns. \n",
    "    #feature_list is an ordered list of CpG features feature_set=data[feature_list.CpG.tolist()[:i+1]]\n",
    "\n",
    "    #Split the dataset into training and test subsets\n",
    "    methyl_train, methyl_test, age_train, age_test = train_test_split(feature_set, ages, test_size=0.2, random_state=42)\n",
    "    scaler = StandardScaler() \n",
    "    fit = scaler.fit(methyl_train)\n",
    "    methyl_train = fit.transform(methyl_train) \n",
    "    age_train=age_train.values.ravel()\n",
    "\n",
    "    fsw_clock = LinearRegression(fit_intercept=True).fit(methyl_train, age_train) \n",
    "    methyl_test = fit.transform(methyl_test)\n",
    "    age_test=age_test.values.ravel()\n",
    "    preds = fsw_clock.predict(methyl_test)\n",
    "\n",
    "    regression = stats.linregress(preds.astype(float), age_test.astype(float)) \n",
    "    slope, intercept, rvalue, pvalue, stderr = regression\n",
    "    maes += [metrics.mean_absolute_error(preds, age_test)] \n",
    "    rs+= [rvalue]"
   ]
  }
 ],
 "metadata": {
  "kernelspec": {
   "display_name": "Python 3",
   "language": "python",
   "name": "python3"
  },
  "language_info": {
   "codemirror_mode": {
    "name": "ipython",
    "version": 3
   },
   "file_extension": ".py",
   "mimetype": "text/x-python",
   "name": "python",
   "nbconvert_exporter": "python",
   "pygments_lexer": "ipython3",
   "version": "3.7.4"
  }
 },
 "nbformat": 4,
 "nbformat_minor": 2
}
