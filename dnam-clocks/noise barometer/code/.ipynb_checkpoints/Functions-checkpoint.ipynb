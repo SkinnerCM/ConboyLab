{
 "cells": [
  {
   "cell_type": "code",
   "execution_count": null,
   "metadata": {},
   "outputs": [],
   "source": [
    "def train_enet(X_data, Y_data, test_size=0.2, n_alphas=10, cv=10, n_jobs=1, max_iter=1000,tol = 0.001, selection='cyclic'): \n",
    "    \n",
    "    from sklearn.model_selection \n",
    "    import train_test_split \n",
    "    from sklearn.linear_model import ElasticNetCV \n",
    "    from sklearn.preprocessing import StandardScaler\n",
    "\n",
    "\n",
    "    scaler=StandardScaler()\n",
    "\n",
    "    #Split the dataset into training and test subsets\n",
    "    X_train, X_test, Y_train, Y_test = train_test_split(X_data, Y_data, test_size=test_size, random_state=42)\n",
    "\n",
    "    #fit and scale the training data; save the fit to scale the test set\n",
    "    fit = scaler.fit(X_train)\n",
    "    X_train = fit.transform(X_train)\n",
    "\n",
    "\n",
    "    # create the elastic net object to be used to for training. \n",
    "    elastic_netCV = ElasticNetCV(l1_ratio = l1_ratio, n_alphas = n_alphas, cv = cv, \n",
    "                                 n_jobs=n_jobs, random_state=42, max_iter=max_iter, tol = tol, selection=selection)\n",
    "\n",
    "\n",
    "    #Train the model\n",
    "    model = elastic_netCV.fit(X_train,Y_train)\n",
    "\n",
    "    #Make predictions on test set methyl_test = fit.transform(methyl_test)\n",
    "    preds = elastic_netCV.predict(X_test)\n",
    "\n",
    "    return (X_train, X_test, Y_train, Y_test) ,fit, model, preds"
   ]
  }
 ],
 "metadata": {
  "kernelspec": {
   "display_name": "Python 3",
   "language": "python",
   "name": "python3"
  },
  "language_info": {
   "codemirror_mode": {
    "name": "ipython",
    "version": 3
   },
   "file_extension": ".py",
   "mimetype": "text/x-python",
   "name": "python",
   "nbconvert_exporter": "python",
   "pygments_lexer": "ipython3",
   "version": "3.7.4"
  }
 },
 "nbformat": 4,
 "nbformat_minor": 2
}
