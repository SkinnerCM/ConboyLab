{
 "cells": [
  {
   "cell_type": "code",
   "execution_count": 4,
   "id": "7f3e1efe",
   "metadata": {},
   "outputs": [],
   "source": [
    "import pandas as pd \n",
    "import numpy as np \n",
    "import seaborn as sns\n",
    "import pickle as pkl\n",
    "import matplotlib.pyplot as plt\n",
    "from scipy import stats\n",
    "from sklearn import metrics\n",
    "from sklearn.linear_model import LinearRegression\n",
    "from sklearn.datasets import make_regression \n",
    "from sklearn.model_selection import train_test_split\n",
    "import joblib\n",
    "\n",
    "%run ../dnam-clocks/mFSS-clock/scripts/mfss_model_train.py\n",
    "%run ../dnam-clocks/mFSS-clock/scripts/utils/data_processing.py\n",
    "%matplotlib inline"
   ]
  },
  {
   "cell_type": "code",
   "execution_count": 2,
   "id": "5f5a0b1a",
   "metadata": {},
   "outputs": [],
   "source": [
    "data_path = '../dnam-clocks/mFSS-clock/data/processed/'"
   ]
  },
  {
   "cell_type": "code",
   "execution_count": null,
   "id": "41bc6e70",
   "metadata": {},
   "outputs": [],
   "source": [
    "# Read in the Hannum dataset for training\n",
    "hannum = pd.read_pickle(data_path + 'GSE40279_hannum/hannum32.pkl')\n",
    "hannum_meta = pd.read_excel('GSE40279_hannum/hannum_pmeta.xlsx')"
   ]
  },
  {
   "cell_type": "code",
   "execution_count": 5,
   "id": "15bb79c5",
   "metadata": {},
   "outputs": [],
   "source": [
    "# Read in the Lehne datasat for validation\n",
    "lehne = np.load(data_path + 'GSE55763_lehne/lehne32_reduced.npy')\n",
    "lehne_meta = pd.read_excel(data_path + 'GSE55763_lehne/lehne_pmeta.xlsx')\n",
    "lehne_cgs = list_reader(data_path + 'GSE55763_lehne/cgs')\n",
    "lehne = pd.DataFrame(lehne, columns=lehne_cgs)"
   ]
  },
  {
   "cell_type": "code",
   "execution_count": 7,
   "id": "76d501b7",
   "metadata": {},
   "outputs": [],
   "source": [
    "#get the age_correlations so we can focus on the shifts of just the top N age-correlated CpGs\n",
    "age_corrs=pd.read_excel(data_path + 'cpg_sets/hannum_age_corrs.xlsx')"
   ]
  },
  {
   "cell_type": "code",
   "execution_count": 9,
   "id": "900b43c8",
   "metadata": {},
   "outputs": [],
   "source": [
    "#filter out SNPS\n",
    "manifest = pd.read_csv(data_path + 'metadata/450K_manifest.csv', low_memory=False)\n",
    "# Get all SNP-associated CpGs in 450K array \n",
    "snps = set(manifest[~manifest.Probe_SNPs.isna()].Name)\n",
    "no_snps = list(set(age_corrs.CpG)-snps)\n",
    "age_corrs = age_corrs[age_corrs['CpG'].isin(no_snps)]"
   ]
  },
  {
   "cell_type": "code",
   "execution_count": null,
   "id": "40e4a1d7",
   "metadata": {},
   "outputs": [],
   "source": [
    "#Lehne has some missing CpGs so need to remove those from the age_corrs rows\n",
    "overlap = list(set(lehne.columns)&set(age_corrs.CpG))\n",
    "\n",
    "filtered_age_corrs= age_corrs[age_corrs['CpG'].isin(overlap)]\n",
    "filtered_age_corrs.reset_index(inplace=True)"
   ]
  },
  {
   "cell_type": "code",
   "execution_count": null,
   "id": "5929fad7",
   "metadata": {},
   "outputs": [],
   "source": [
    "model_cgs, best_iter, val_mse, val_r_val, test_mse, test_r_val = mf_stepwise(filtered_age_corrs.CpG.tolist()[:10000], hannum, hannum_meta,\n",
    "                                                                             lehne, lehne_meta, 150,flag=False)"
   ]
  }
 ],
 "metadata": {
  "kernelspec": {
   "display_name": "Python 3 (ipykernel)",
   "language": "python",
   "name": "python3"
  },
  "language_info": {
   "codemirror_mode": {
    "name": "ipython",
    "version": 3
   },
   "file_extension": ".py",
   "mimetype": "text/x-python",
   "name": "python",
   "nbconvert_exporter": "python",
   "pygments_lexer": "ipython3",
   "version": "3.8.16"
  }
 },
 "nbformat": 4,
 "nbformat_minor": 5
}
