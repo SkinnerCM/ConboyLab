{
 "cells": [
  {
   "cell_type": "code",
   "execution_count": null,
   "metadata": {},
   "outputs": [],
   "source": [
    "#import libraries used in this file\n",
    "import geo_tools as gt\n",
    "import pandas as pd \n",
    "import numpy as np"
   ]
  },
  {
   "cell_type": "code",
   "execution_count": null,
   "metadata": {},
   "outputs": [],
   "source": [
    "#load in the arthritis dataset\n",
    "data = pd.read_pickle('Dataset/arth raw.pkl')"
   ]
  },
  {
   "cell_type": "code",
   "execution_count": null,
   "metadata": {},
   "outputs": [],
   "source": [
    "#Transpose our data such that each row is a GSM. \n",
    "data_test = data.T\n",
    " \n",
    "data_test.columns.name = \"CpG\""
   ]
  },
  {
   "cell_type": "code",
   "execution_count": null,
   "metadata": {},
   "outputs": [],
   "source": [
    "#Load in the ages of our arthritis dataset\n",
    "ages = pd.read_pickle('Dataset/arth ages.pkl')\n",
    "ages = ages.rename(columns={ages.columns[0]: 'Age'})"
   ]
  },
  {
   "cell_type": "code",
   "execution_count": null,
   "metadata": {},
   "outputs": [],
   "source": [
    "#Load in the disease status of each GSM\n",
    "arth_status = pd.read_pickle('Dataset/arth status.pkl')\n",
    "arth_status = arth_status.rename(columns={arth_status.columns[0]: 'status'})"
   ]
  },
  {
   "cell_type": "code",
   "execution_count": null,
   "metadata": {},
   "outputs": [],
   "source": [
    "#Select those GSMs with disease status of rheumatoid arthritis \n",
    "arth = arth_status[arth_status[\"status\"] == \"rheumatoid arthritis\"]\n",
    "\n",
    "#Select those GSMs with disease status of normal \n",
    "norm = arth_status[arth_status[\"status\"] == \"normal\"]"
   ]
  },
  {
   "cell_type": "code",
   "execution_count": null,
   "metadata": {},
   "outputs": [],
   "source": [
    "#Generate a table of Beta values for each CpG for each GSM in the \"normal\" subgroup \n",
    "common_cols = arth_status.index.intersection(norm.index).to_list()\n",
    "norm_test = data_test.loc[common_cols]"
   ]
  },
  {
   "cell_type": "code",
   "execution_count": null,
   "metadata": {},
   "outputs": [],
   "source": [
    "#Generate a table of age for each GSM in the \"normal\" subgroup \n",
    "norm_ages = ages.loc[common_cols]"
   ]
  },
  {
   "cell_type": "code",
   "execution_count": null,
   "metadata": {},
   "outputs": [],
   "source": [
    "#Generate a table of Beta values for each CpG for each GSM in the \"arthritis\" subgroup \n",
    "common_cols = arth_status.index.intersection(arth.index).to_list()\n",
    "arth_test = data_test.loc[common_cols]"
   ]
  },
  {
   "cell_type": "code",
   "execution_count": null,
   "metadata": {},
   "outputs": [],
   "source": [
    "#Generate a table of age for each GSM in the \"normal\" subgroup \n",
    "arth_ages = ages.loc[common_cols]"
   ]
  },
  {
   "cell_type": "code",
   "execution_count": null,
   "metadata": {},
   "outputs": [],
   "source": [
    "#Load the R^2 value of each CpG in the healthy subset \n",
    "Norm_Stats = pd.read_pickle('CpG_Rs/CpG_R_healthy_arth.pkl')"
   ]
  },
  {
   "cell_type": "code",
   "execution_count": null,
   "metadata": {},
   "outputs": [],
   "source": [
    "#rank the CpGs by Rvalue, then given a rank\n",
    "Norm_Stats = Norm_Stats.reindex(Norm_Stats.Rvalue.abs().sort_values(ascending=False, kind='mergesort').index)\n",
    "Norm_Stats[\"Rank\"] = [i for i in range(1,len(Norm_Stats.index)+1)]"
   ]
  },
  {
   "cell_type": "code",
   "execution_count": null,
   "metadata": {},
   "outputs": [],
   "source": [
    "#ensure that the R value is less that 0.05 and\n",
    "Norm_Stats_low = Norm_Stats[(Norm_Stats[\"Rvalue\"]<=0.0025)]"
   ]
  },
  {
   "cell_type": "code",
   "execution_count": null,
   "metadata": {},
   "outputs": [],
   "source": [
    "# Load R^2 values of CpGs across the entire dataset\n",
    "dis_Stats = pd.read_pickle('CpG_Rs/CpG_R_arth_dis.pkl')"
   ]
  },
  {
   "cell_type": "code",
   "execution_count": null,
   "metadata": {},
   "outputs": [],
   "source": [
    "# reorganize this table from highest to lowest absolute rvalue and then rank CpGs from most to least correlated \n",
    "dis_Stats = dis_Stats.reindex(dis_Stats.Rvalue.abs().sort_values(ascending=False, kind='mergesort').index) \n",
    "dis_Stats[\"Rank\"] = [i for i in range(1,len(dis_Stats.index)+1)]"
   ]
  },
  {
   "cell_type": "code",
   "execution_count": null,
   "metadata": {},
   "outputs": [],
   "source": [
    "#ensure that the Rvalue is less that 0.05 and\n",
    "dis_Stats_low = dis_Stats[(dis_Stats[\"Rvalue\"]<=0.0025)]"
   ]
  },
  {
   "cell_type": "code",
   "execution_count": null,
   "metadata": {},
   "outputs": [],
   "source": [
    "#generate the HIV+ male dataset\n",
    "HIV_data = gt.matrix_to_df(\"data_GSE/GSE53840/GSE53840_series_matrix.txt\", GSE = \"GSE53840\")"
   ]
  },
  {
   "cell_type": "code",
   "execution_count": null,
   "metadata": {},
   "outputs": [],
   "source": [
    "#Transpose our data such that each row is a GSM. HIV_test = HIV_data.T\n",
    "HIV_test.columns.name = \"CpG\""
   ]
  },
  {
   "cell_type": "code",
   "execution_count": null,
   "metadata": {},
   "outputs": [],
   "source": [
    "# find the age of each GSM HiV_age = []\n",
    "for item in HIV_data.columns.to_list(): HiV_age.append(gt.info(\"GSE53840\", item))\n",
    "# Generate a list of each GSM's age\n",
    "HiV_ages = pd.DataFrame(data=HiV_age, index=HIV_data.columns.to_list()) \n",
    "HiV_ages = HiV_ages.rename(columns={HiV_ages.columns[0]: 'Age'})"
   ]
  },
  {
   "cell_type": "code",
   "execution_count": null,
   "metadata": {},
   "outputs": [],
   "source": [
    "HIV_Stats = pd.read_pickle('CpG_Rs/CpG_R_HIV.pkl')"
   ]
  },
  {
   "cell_type": "code",
   "execution_count": null,
   "metadata": {},
   "outputs": [],
   "source": [
    "# reorganize this table from highest to lowest absolute rvalue and then rank CpGs from most to least correlated\n",
    " \n",
    "HIV_Stats = HIV_Stats.reindex(HIV_Stats.Rvalue.abs().sort_values(ascending=False, kind='mergesort').index) \n",
    "HIV_Stats[\"Rank\"] = [i for i in range(1,len(HIV_Stats.index)+1)]"
   ]
  },
  {
   "cell_type": "code",
   "execution_count": null,
   "metadata": {},
   "outputs": [],
   "source": [
    "#ensure that the Rvalue is less that 0.05 and\n",
    "HIV_Stats_low = HIV_Stats[(HIV_Stats[\"Rvalue\"]<=0.0025)]"
   ]
  },
  {
   "cell_type": "code",
   "execution_count": null,
   "metadata": {},
   "outputs": [],
   "source": [
    "#Find CpGs with R <= 0.05 in each considered dataset\n",
    "common_low = set(Norm_Stats_low[\"CpG\"]).intersection(dis_Stats_low[\"CpG\"]) \n",
    "common_low = pd.Series(list(common_low.intersection(HIV_Stats_low[\"CpG\"]))).to_list()"
   ]
  },
  {
   "cell_type": "code",
   "execution_count": null,
   "metadata": {},
   "outputs": [],
   "source": [
    "lowestR_Betas_n = norm_test[norm_test.columns.intersection(common_low)] \n",
    "lowestR_Betas_n[\"Age\"] = norm_ages\n",
    "\n",
    "lowestR_Betas_a = arth_test[arth_test.columns.intersection(common_low)] \n",
    "lowestR_Betas_a[\"Age\"] = arth_ages\n",
    "\n",
    "lowestR_Betas_h = HIV_test[HIV_test.columns.intersection(common_low)] \n",
    "lowestR_Betas_h[\"Age\"] = HiV_ages"
   ]
  },
  {
   "cell_type": "code",
   "execution_count": null,
   "metadata": {},
   "outputs": [],
   "source": [
    "#Generate Bins with 5 year interval from 25 to 90. Then Bins are created for all samples bellow 25 and above 90. \n",
    "# Then place GSMs into Bin according to Age. The largest bin is given the uper age limit of 101.\n",
    "i = 25\n",
    "\n",
    "age_Betas = [] \n",
    "Age_upper = [] \n",
    "temp = 0\n",
    "Leftover_Beta = lowestR_Betas_h \n",
    "\n",
    "while i <= 65:\n",
    "    temp = Leftover_Beta[(Leftover_Beta[\"Age\"]<= i)]\n",
    "    Leftover_Beta = Leftover_Beta.drop(temp.index.to_list() , axis = 0) \n",
    "    Age_upper.append(i)\n",
    "    i += 5\n",
    "    age_Betas.append(temp) \n",
    "age_Betas.append(Leftover_Beta) \n",
    "Age_upper.append(70)"
   ]
  },
  {
   "cell_type": "code",
   "execution_count": null,
   "metadata": {},
   "outputs": [],
   "source": [
    "#find standard deviations stds = []\n",
    "for age in range(len(age_Betas)): \n",
    "    stds.append(age_Betas[age].T[:-1].T.std())\n",
    "stds_df_h = pd.DataFrame( stds, index = Age_upper, columns = lowestR_Betas_h.columns.to_list()[:-1])"
   ]
  },
  {
   "cell_type": "code",
   "execution_count": null,
   "metadata": {},
   "outputs": [],
   "source": [
    "#Generate Bins with 5 year interval from 25 to 90. Then Bins are created for all samples bellow 25 and above 90. # Then place GSMs into Bin according to Age. The largest bin is given the uper age limit of 101.\n",
    "i = 25\n",
    "age_Betas = [] \n",
    "Age_upper = [] \n",
    "temp = 0\n",
    "Leftover_Beta = lowestR_Betas_n \n",
    "while i <= 65:\n",
    "    temp = Leftover_Beta[(Leftover_Beta[\"Age\"]<= i)]\n",
    "    Leftover_Beta = Leftover_Beta.drop(temp.index.to_list() , axis = 0) Age_upper.append(i)\n",
    "    i += 5\n",
    "    age_Betas.append(temp) \n",
    "age_Betas.append(Leftover_Beta) \n",
    "Age_upper.append(70)"
   ]
  },
  {
   "cell_type": "code",
   "execution_count": null,
   "metadata": {},
   "outputs": [],
   "source": [
    "#find standard deviations stds = []\n",
    "for age in range(len(age_Betas)): \n",
    "    stds.append(age_Betas[age].T[:-1].T.std())\n",
    "stds_df_n = pd.DataFrame( stds, index = Age_upper, columns = lowestR_Betas_n.columns.to_list()[:-1])"
   ]
  },
  {
   "cell_type": "code",
   "execution_count": null,
   "metadata": {},
   "outputs": [],
   "source": [
    "#Generate Bins with 5 year interval from 25 to 90. Then Bins are created for all samples bellow 25 and above 90. # Then place GSMs into Bin according to Age. The largest bin is given the uper age limit of 101.\n",
    "i = 25\n",
    "age_Betas = [] \n",
    "Age_upper = [] \n",
    "temp = 0\n",
    "Leftover_Beta = lowestR_Betas_a \n",
    "\n",
    "while i <= 65:\n",
    "    temp = Leftover_Beta[(Leftover_Beta[\"Age\"]<= i)]\n",
    "    Leftover_Beta = Leftover_Beta.drop(temp.index.to_list() , axis = 0) \n",
    "    Age_upper.append(i)\n",
    "    i += 5\n",
    "    age_Betas.append(temp) \n",
    "age_Betas.append(Leftover_Beta) \n",
    "Age_upper.append(70)"
   ]
  },
  {
   "cell_type": "code",
   "execution_count": null,
   "metadata": {},
   "outputs": [],
   "source": [
    "#find standard deviations stds = []\n",
    "for age in range(len(age_Betas)): \n",
    "    stds.append(age_Betas[age].T[:-1].T.std())\n",
    "stds_df_a = pd.DataFrame( stds, index = Age_upper, columns = lowestR_Betas_a.columns.to_list()[:-1])"
   ]
  }
 ],
 "metadata": {
  "kernelspec": {
   "display_name": "Python 3",
   "language": "python",
   "name": "python3"
  },
  "language_info": {
   "codemirror_mode": {
    "name": "ipython",
    "version": 3
   },
   "file_extension": ".py",
   "mimetype": "text/x-python",
   "name": "python",
   "nbconvert_exporter": "python",
   "pygments_lexer": "ipython3",
   "version": "3.7.4"
  }
 },
 "nbformat": 4,
 "nbformat_minor": 2
}
