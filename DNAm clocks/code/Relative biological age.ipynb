{
 "cells": [
  {
   "cell_type": "code",
   "execution_count": null,
   "metadata": {},
   "outputs": [],
   "source": [
    "import re as re\n",
    "import matplotlib.pyplot as plt \n",
    "import importlib.util\n",
    "import numpy as np\n",
    "import statsmodels.api as sm \n",
    "from numpy import array\n",
    "from sklearn.svm import LinearSVC\n",
    "from sklearn.feature_selection import SelectKBest\n",
    "from sklearn.feature_selection import chi2, f_regression \n",
    "from scipy.optimize import curve_fit"
   ]
  },
  {
   "cell_type": "code",
   "execution_count": null,
   "metadata": {},
   "outputs": [],
   "source": [
    "#for individuals above age 27, e.g. have mature immune system, show the coefficient \n",
    "#between individual’s age and absolute deviation from mean for each CpG\n",
    "\n",
    "p = pd.DataFrame(pd.np.empty((6282,2))) for i in range(df_noage27.shape[1]):\n",
    "p.iloc[i, 0] = df_noage27.columns[i] column_i_name = df_noage27.columns[i]\n",
    "p.iloc[i, 1] = np.corrcoef(df_above27[column_i_name], df_above27[\"age\"])[0,1] p = p.set_axis(['CpG', 'Coe'], axis='columns')"
   ]
  },
  {
   "cell_type": "code",
   "execution_count": null,
   "metadata": {},
   "outputs": [],
   "source": [
    "# narrow down to only CpGs with coefficient above 0.2 coe_above015 = p[p['Coe'] >= 0.2]['CpG'].to_list()\n",
    "# filter to leave only the 50 CpGs absolute deviation from mean values for all individuals in the \n",
    "# dataset df27_remove = df_above27[df_above27.columns.intersection(coe_above015)]\n",
    "# Generate the average sum of absolute deviation of the 50 CpGs from mean for individual between 25 \n",
    "# and 27, by which sum for individuals above age 27 will be divided\n",
    "\n",
    "df25_remove = df25[df25.columns.intersection(coe_above015)]\n",
    "Mean_25 = df25_remove.iloc[:, :-1].to_numpy().sum()/4"
   ]
  },
  {
   "cell_type": "code",
   "execution_count": null,
   "metadata": {},
   "outputs": [],
   "source": [
    "# Normalize sum of 50 CpGs in terms of their deviation from mean by the 25 to 27-year-olds’ average \n",
    "\n",
    "SUMofNorDevi15 = df27_remove.dropna(axis='columns').sum(axis = 1)\n",
    "SUMofNorDevi15_Nor = SUMofNorDevi15/Mean_25"
   ]
  },
  {
   "cell_type": "code",
   "execution_count": null,
   "metadata": {},
   "outputs": [],
   "source": [
    "# plot the median sum values for each age from 29 to 70. No value will be present if there is no data in any age between this range.\n",
    "X= SUM_Nor_df['age'] Y= SUM_Nor_df['values'] total_bins = 45\n",
    "bins = np.linspace(X.min(),X.max(), total_bins) delta = bins[1]-bins[0]\n",
    "idx = np.digitize(X,bins)\n",
    "running_median = [np.median(Y[idx==k]) for k in range(total_bins)] plt.scatter(bins-delta/2,running_median,color='k',alpha=1,s=7) plt.plot(bins-delta/2,running_median,'r--',lw=2,alpha=.8) plt.axis('tight')\n",
    "plt.show()\n",
    "new = pd.DataFrame(data=(bins-delta/2,running_median)).T.dropna() new.columns=['age','values']\n",
    "x=new['age']\n",
    " \n",
    "y=new['values']\n",
    "# define the true objective function def objective(x, a, b, c, d, e, f):\n",
    "return (a * x) + (b * x**2) + (c * x**3) + (d * x**4) + (e * x**5) + f # curve fit\n",
    "popt, _ = curve_fit(objective, x, y) # summarize the parameter values a, b, c, d, e, f = popt\n",
    "# plot input vs output plt.scatter(x, y)\n",
    "# define a sequence of inputs between the smallest and largest known inputs x_line = np.arange(min(x), max(x), 1)\n",
    "# calculate the output for the range y_line = objective(x_line, a, b, c, d, e, f)\n",
    "# create a line plot for the mapping function plt.plot(x_line, y_line, '--', color='red')"
   ]
  }
 ],
 "metadata": {
  "kernelspec": {
   "display_name": "Python 3",
   "language": "python",
   "name": "python3"
  },
  "language_info": {
   "codemirror_mode": {
    "name": "ipython",
    "version": 3
   },
   "file_extension": ".py",
   "mimetype": "text/x-python",
   "name": "python",
   "nbconvert_exporter": "python",
   "pygments_lexer": "ipython3",
   "version": "3.7.4"
  }
 },
 "nbformat": 4,
 "nbformat_minor": 2
}
