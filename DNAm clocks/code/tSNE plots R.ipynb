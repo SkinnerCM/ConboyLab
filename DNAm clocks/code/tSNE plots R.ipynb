{
 "cells": [
  {
   "cell_type": "code",
   "execution_count": null,
   "metadata": {},
   "outputs": [],
   "source": [
    "library(“tidyverse”)\n",
    "library(\"Rtsne\")\n",
    "library(\"readxl\") \n",
    "library(\"dplyr\") \n",
    "library(reticulate) \n",
    "require(\"reticulate\") \n",
    "py_install(\"pandas\")\n",
    "source_python(\"/Users/xiaoyuemei/Desktop/lab_file/pickle_file.py\") \n",
    "DNAme <- read_pickle_file(\"/Users/xiaoyuemei/scaled_hannum.pkl\")\n",
    "Ages <- read_excel(\"/Users/xiaoyuemei/Desktop/SynologyDrive/MXY/Summer21/Conboy Lab/DS3_ages_vertical.xlsx\")\n",
    "DNAme <- DNAme %>%\n",
    "mutate(ID = row_number())\n",
    " \n",
    "DNAme <-t(DNAme)\n",
    "Ages <- Ages %>% mutate(ID = row_number())\n",
    "new_DNAme <- merge(DNAme, Ages, by=\"ID\") \n",
    "tSNE_fit <- DNAme_Pre %>% select(where(is.numeric)) %>% column_to_rownames(\"ID\") %>%\n",
    "scale() %>% Rtsne(perplexity = 40) \n",
    "tSNE_df <- tSNE_fit$Y %>% as.data.frame() %>% rename(tSNE1=\"V1\",\n",
    "tSNE2=\"V2\") %>%\n",
    "mutate(ID=row_number()) tSNE_df <- tSNE_df %>% inner_join(DNAme_Pre, by=\"ID\") tSNE_df %>% head()\n",
    "tSNE_df %>% ggplot(aes(x = tSNE1,\n",
    "y = tSNE2,\n",
    "color = ID))+ geom_point()+ theme(legend.position=\"bottom\") ggsave(\"DNAmeVSAge.png\")"
   ]
  }
 ],
 "metadata": {
  "kernelspec": {
   "display_name": "Python 3",
   "language": "python",
   "name": "python3"
  },
  "language_info": {
   "codemirror_mode": {
    "name": "ipython",
    "version": 3
   },
   "file_extension": ".py",
   "mimetype": "text/x-python",
   "name": "python",
   "nbconvert_exporter": "python",
   "pygments_lexer": "ipython3",
   "version": "3.7.4"
  }
 },
 "nbformat": 4,
 "nbformat_minor": 2
}
